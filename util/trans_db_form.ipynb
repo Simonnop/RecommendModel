{
 "cells": [
  {
   "cell_type": "code",
   "execution_count": 1,
   "metadata": {
    "collapsed": true
   },
   "outputs": [],
   "source": [
    "import pymongo"
   ]
  },
  {
   "cell_type": "code",
   "execution_count": 2,
   "outputs": [],
   "source": [
    "# mongodb uri\n",
    "conn_str = \"mongodb://1.15.118.125:27017/\"\n",
    "# 客户端连接\n",
    "client = pymongo.MongoClient(conn_str, serverSelectionTimeoutMS=5000)\n",
    "collection_read_csv = client.get_database(\"Lab\").get_collection(\"read_CSV\")\n",
    "collection_mission = client.get_database(\"Lab\").get_collection(\"Mission\")"
   ],
   "metadata": {
    "collapsed": false
   }
  },
  {
   "cell_type": "code",
   "execution_count": 5,
   "outputs": [],
   "source": [
    "for doc in collection_read_csv.find():\n",
    "    tag_list = []\n",
    "    mission_id = doc.get(\"missionID\")\n",
    "    mission_title = doc.get(\"title\")\n",
    "    for i in range(1,4):\n",
    "        tag = doc.get('tag'+i.__str__())\n",
    "        if tag is not None:\n",
    "            tag_list.append(tag)\n",
    "\n",
    "    mission = {\n",
    "    'missionID': mission_id,\n",
    "    'title': mission_title,\n",
    "    'missionTags':tag_list\n",
    "    }\n",
    "\n",
    "    collection_mission.insert_one(mission)"
   ],
   "metadata": {
    "collapsed": false
   }
  },
  {
   "cell_type": "code",
   "execution_count": null,
   "outputs": [],
   "source": [],
   "metadata": {
    "collapsed": false
   }
  }
 ],
 "metadata": {
  "kernelspec": {
   "display_name": "Python 3",
   "language": "python",
   "name": "python3"
  },
  "language_info": {
   "codemirror_mode": {
    "name": "ipython",
    "version": 2
   },
   "file_extension": ".py",
   "mimetype": "text/x-python",
   "name": "python",
   "nbconvert_exporter": "python",
   "pygments_lexer": "ipython2",
   "version": "2.7.6"
  }
 },
 "nbformat": 4,
 "nbformat_minor": 0
}
