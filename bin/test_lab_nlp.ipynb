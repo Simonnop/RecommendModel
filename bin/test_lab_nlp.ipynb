{
 "cells": [
  {
   "cell_type": "code",
   "execution_count": 2,
   "outputs": [],
   "source": [
    "import pymongo\n",
    "import pandas as pd\n",
    "import jieba\n",
    "import numpy as np\n",
    "import string\n",
    "from collections import Counter\n",
    "from sklearn.model_selection import train_test_split\n",
    "from keras.layers import Dense, Embedding, Flatten\n",
    "from keras.models import Sequential"
   ],
   "metadata": {
    "collapsed": false
   }
  },
  {
   "cell_type": "code",
   "execution_count": 3,
   "outputs": [],
   "source": [
    "# mongodb uri\n",
    "conn_str = \"mongodb://1.15.118.125:27017/\"\n",
    "# 客户端连接\n",
    "client = pymongo.MongoClient(conn_str, serverSelectionTimeoutMS=5000)\n",
    "collection_user = client.get_database(\"Lab\").get_collection(\"Mission\")"
   ],
   "metadata": {
    "collapsed": false
   }
  },
  {
   "cell_type": "code",
   "execution_count": 4,
   "outputs": [
    {
     "data": {
      "text/plain": "选调知多少政策宣讲活动                                                                                                           [就业发展, 宣讲]\n会计专业课程组本科教学汇报                                                                                                      [教学建设, 报告/汇报]\n喻园管理论坛: Understanding the Digital Resilience of Physicians during the COVID-19 Pandemic: An Empirical Study             [学术, 讲座]\n国奖专访                                                                                                                  [采访, 校园生活]\nAOL第三轮工作会议                                                                                                            [教学建设, 会议]\n校运会跟拍                                                                                                                 [文体活动, 赛事]\n学习贯彻党的二十大精神宣讲报告会                                                                                               [党团活动, 宣讲, 报告/汇报]\n“廖建桥教室”揭牌仪式活动                                                                                                         [教学建设, 仪式]\n喻园管理论坛: Do Financial Innovations Affect IT Investment?                                                                  [学术, 讲座]\n领学团第一次集体备课会                                                                                                           [教学建设, 会议]\n华工杯乒乓球赛半决赛                                                                                                            [文体活动, 赛事]\n热缩片DIY活动                                                                                                            [校园生活, 趣味活动]\n喻园管理论坛: Intelligent Simulation Optimization: An Example in Multi-fidelity Simulation Modeling                           [学术, 讲座]\n喻园管理论坛: Auditor Industry Range and Professional Skepticism                                                              [学术, 讲座]\n喻园管理论坛: How Banks Understand R&D Investments: The Case of Standards Setting Organizations                               [学术, 讲座]\n发展对象开班, 杨院长教授党课                                                                                                       [党团活动, 讲座]\n十一月舍导交流                                                                                                             [校园生活, 师生交流]\n管理学院第二届工商管理学科高端论坛系列活动: 学术报告会                                                                                         [学术, 报告/汇报]\n管理学院第二届工商管理学科高端论坛系列活动: 学科建设座谈会                                                                                        [教学建设, 会议]\n二十大宣讲                                                                                                                 [党团活动, 宣讲]\n新进老师培训                                                                                                                    [教学建设]\n学生骨干训练营的结营仪式                                                                                                          [学生工作, 仪式]\n十二月舍导交流                                                                                                             [校园生活, 师生交流]\n中国管理学前沿研究研讨会: 开幕式与主报告                                                                                            [学术, 仪式, 报告/汇报]\ndtype: object"
     },
     "execution_count": 4,
     "metadata": {},
     "output_type": "execute_result"
    }
   ],
   "source": [
    "# 查询 title 与对应的 tags\n",
    "title_with_tags = {}\n",
    "for doc in collection_user.find():\n",
    "    mission_tags = doc.get(\"missionTags\")\n",
    "    mission_title = doc.get(\"title\")\n",
    "    title_with_tags[mission_title] = mission_tags\n",
    "\n",
    "# pands 格式化输出\n",
    "ser_tag_tags = pd.Series(title_with_tags)\n",
    "ser_tag_tags.head(len(ser_tag_tags))"
   ],
   "metadata": {
    "collapsed": false
   }
  },
  {
   "cell_type": "code",
   "execution_count": 5,
   "outputs": [
    {
     "name": "stdout",
     "output_type": "stream",
     "text": [
      "['，', '“', '”', '、', '《', '》', '。', ':', '-', '的', '?', ' ', ',', '&', 'a', 'b', 'c', 'd', 'e', 'f', 'g', 'h', 'i', 'j', 'k', 'l', 'm', 'n', 'o', 'p', 'q', 'r', 's', 't', 'u', 'v', 'w', 'x', 'y', 'z', 'A', 'B', 'C', 'D', 'E', 'F', 'G', 'H', 'I', 'J', 'K', 'L', 'M', 'N', 'O', 'P', 'Q', 'R', 'S', 'T', 'U', 'V', 'W', 'X', 'Y', 'Z', '0', '1', '2', '3', '4', '5', '6', '7', '8', '9']\n"
     ]
    }
   ],
   "source": [
    "# 忽略词\n",
    "eng_words = list(string.ascii_lowercase + string.ascii_uppercase)\n",
    "exclude_words = ['，', '“', '”', '、', '《', '》', '。', ':', '-', '的', '?', ' ', ',', '&']\n",
    "for w in eng_words:\n",
    "    exclude_words.append(w)\n",
    "for i in range(10):\n",
    "    exclude_words.append(str(i))\n",
    "print(exclude_words)"
   ],
   "metadata": {
    "collapsed": false
   }
  },
  {
   "cell_type": "code",
   "execution_count": 6,
   "outputs": [
    {
     "name": "stderr",
     "output_type": "stream",
     "text": [
      "Building prefix dict from the default dictionary ...\n",
      "Loading model from cache C:\\Users\\admin\\AppData\\Local\\Temp\\jieba.cache\n",
      "Loading model cost 0.643 seconds.\n",
      "Prefix dict has been built successfully.\n"
     ]
    },
    {
     "name": "stdout",
     "output_type": "stream",
     "text": [
      "总词数: 79\n",
      "[('管理', 7), ('论坛', 7), ('活动', 5), ('喻园', 5), ('宣讲', 3), ('二十大', 2), ('报告会', 2), ('仪式', 2), ('舍导', 2), ('交流', 2), ('学院', 2), ('第二届', 2), ('工商管理学', 2), ('科', 2), ('高端', 2), ('系列', 2), ('选调', 1), ('知多少', 1), ('政策', 1), ('会计专业', 1), ('课程', 1), ('组', 1), ('本科', 1), ('教学', 1), ('汇报', 1), ('国奖', 1), ('专访', 1), ('第三轮', 1), ('工作', 1), ('会议', 1), ('校运会', 1), ('跟', 1), ('拍', 1), ('学习', 1), ('贯彻', 1), ('党', 1), ('精神', 1), ('廖', 1), ('建桥', 1), ('教室', 1), ('揭牌', 1), ('领学团', 1), ('第一次', 1), ('集体', 1), ('备课', 1), ('会', 1), ('华工', 1), ('杯', 1), ('乒乓球赛', 1), ('半决赛', 1), ('热缩', 1), ('片', 1), ('发展', 1), ('对象', 1), ('开班', 1), ('杨院长', 1), ('教授', 1), ('党课', 1), ('十一月', 1), ('学术', 1), ('学科建设', 1), ('座谈会', 1), ('新进', 1), ('老师', 1), ('培训', 1), ('学生', 1), ('骨干', 1), ('训练营', 1), ('结营', 1), ('十二月', 1), ('中国', 1), ('管理学', 1), ('前沿', 1), ('研究', 1), ('研讨会', 1), ('开幕式', 1), ('与', 1), ('主', 1), ('报告', 1)]\n"
     ]
    }
   ],
   "source": [
    "# 分割 title 的词语\n",
    "total_words = []\n",
    "title_with_words = {}\n",
    "for title in title_with_tags.keys():\n",
    "    for i in exclude_words:\n",
    "        title = title.replace(i, '')\n",
    "    title_with_words[title] = []\n",
    "    # jieba拆分方法\n",
    "    words = jieba.cut(title, cut_all=False)\n",
    "    for word in words:\n",
    "        total_words.append(word)\n",
    "        title_with_words[title].append(word)\n",
    "\n",
    "fre = Counter(total_words)\n",
    "word_fre = sorted(fre.items(), key=lambda i: i[1], reverse=True)\n",
    "print(\"总词数: \" + len(word_fre).__str__())\n",
    "print(word_fre)"
   ],
   "metadata": {
    "collapsed": false
   }
  },
  {
   "cell_type": "code",
   "execution_count": 8,
   "outputs": [
    {
     "name": "stdout",
     "output_type": "stream",
     "text": [
      "16\n"
     ]
    }
   ],
   "source": [
    "# 查询 tag 的频次\n",
    "def get_tag_times(dict_value_tags):\n",
    "    tag_with_time = {}\n",
    "    for key in dict_value_tags:\n",
    "        for tag in dict_value_tags[key]:\n",
    "            if tag not in tag_with_time:\n",
    "                tag_with_time[tag] = 1\n",
    "            else:\n",
    "                tag_with_time[tag] += 1\n",
    "    return tag_with_time\n",
    "\n",
    "\n",
    "# 获取 tags 列表\n",
    "tags_list = list(get_tag_times(title_with_tags).keys())\n",
    "print(len(tags_list))"
   ],
   "metadata": {
    "collapsed": false
   }
  },
  {
   "cell_type": "code",
   "execution_count": 9,
   "outputs": [
    {
     "name": "stdout",
     "output_type": "stream",
     "text": [
      "(24, 79)\n"
     ]
    }
   ],
   "source": [
    "# 构建词语数据矩阵\n",
    "dist = np.zeros((len(title_with_tags), len(set(total_words))))\n",
    "print(dist.shape)"
   ],
   "metadata": {
    "collapsed": false
   }
  },
  {
   "cell_type": "code",
   "execution_count": 10,
   "outputs": [
    {
     "name": "stdout",
     "output_type": "stream",
     "text": [
      "['选调', '知多少', '政策', '宣讲', '活动']\n",
      "选调\n",
      "知多少\n",
      "政策\n",
      "宣讲\n",
      "活动\n",
      "['会计专业', '课程', '组', '本科', '教学', '汇报']\n",
      "会计专业\n",
      "课程\n",
      "组\n",
      "本科\n",
      "教学\n",
      "汇报\n",
      "['喻园', '管理', '论坛']\n",
      "喻园\n",
      "管理\n",
      "论坛\n",
      "['国奖', '专访']\n",
      "国奖\n",
      "专访\n",
      "['第三轮', '工作', '会议']\n",
      "第三轮\n",
      "工作\n",
      "会议\n",
      "['校运会', '跟', '拍']\n",
      "校运会\n",
      "跟\n",
      "拍\n",
      "['学习', '贯彻', '党', '二十大', '精神', '宣讲', '报告会']\n",
      "学习\n",
      "贯彻\n",
      "党\n",
      "二十大\n",
      "精神\n",
      "宣讲\n",
      "报告会\n",
      "['廖', '建桥', '教室', '揭牌', '仪式', '活动']\n",
      "廖\n",
      "建桥\n",
      "教室\n",
      "揭牌\n",
      "仪式\n",
      "活动\n",
      "['领学团', '第一次', '集体', '备课', '会']\n",
      "领学团\n",
      "第一次\n",
      "集体\n",
      "备课\n",
      "会\n",
      "['华工', '杯', '乒乓球赛', '半决赛']\n",
      "华工\n",
      "杯\n",
      "乒乓球赛\n",
      "半决赛\n",
      "['热缩', '片', '活动']\n",
      "热缩\n",
      "片\n",
      "活动\n",
      "['发展', '对象', '开班', '杨院长', '教授', '党课']\n",
      "发展\n",
      "对象\n",
      "开班\n",
      "杨院长\n",
      "教授\n",
      "党课\n",
      "['十一月', '舍导', '交流']\n",
      "十一月\n",
      "舍导\n",
      "交流\n",
      "['管理', '学院', '第二届', '工商管理学', '科', '高端', '论坛', '系列', '活动', '学术', '报告会']\n",
      "管理\n",
      "学院\n",
      "第二届\n",
      "工商管理学\n",
      "科\n",
      "高端\n",
      "论坛\n",
      "系列\n",
      "活动\n",
      "学术\n",
      "报告会\n",
      "['管理', '学院', '第二届', '工商管理学', '科', '高端', '论坛', '系列', '活动', '学科建设', '座谈会']\n",
      "管理\n",
      "学院\n",
      "第二届\n",
      "工商管理学\n",
      "科\n",
      "高端\n",
      "论坛\n",
      "系列\n",
      "活动\n",
      "学科建设\n",
      "座谈会\n",
      "['二十大', '宣讲']\n",
      "二十大\n",
      "宣讲\n",
      "['新进', '老师', '培训']\n",
      "新进\n",
      "老师\n",
      "培训\n",
      "['学生', '骨干', '训练营', '结营', '仪式']\n",
      "学生\n",
      "骨干\n",
      "训练营\n",
      "结营\n",
      "仪式\n",
      "['十二月', '舍导', '交流']\n",
      "十二月\n",
      "舍导\n",
      "交流\n",
      "['中国', '管理学', '前沿', '研究', '研讨会', '开幕式', '与', '主', '报告']\n",
      "中国\n",
      "管理学\n",
      "前沿\n",
      "研究\n",
      "研讨会\n",
      "开幕式\n",
      "与\n",
      "主\n",
      "报告\n"
     ]
    }
   ],
   "source": [
    "# 将数据填入矩阵\n",
    "total_words_list = list(set(total_words))\n",
    "title_list = list(title_with_words.keys())\n",
    "for i in range(len(title_list)):\n",
    "    print(title_with_words[title_list[i]])\n",
    "    for word in title_with_words[title_list[i]]:\n",
    "        for j in range(len(total_words_list)):\n",
    "            if word == total_words_list[j]:\n",
    "                print(word)\n",
    "                dist[i][j] += 1"
   ],
   "metadata": {
    "collapsed": false
   }
  },
  {
   "cell_type": "code",
   "execution_count": 11,
   "outputs": [
    {
     "name": "stdout",
     "output_type": "stream",
     "text": [
      "['工商管理学', '半决赛', '学习', '会议', '管理', '校运会', '热缩', '知多少', '二十大', '工作', '领学团', '本科', '第一次', '学术', '十一月', '第三轮', '喻园', '汇报', '拍', '杨院长', '老师', '交流', '研究', '宣讲', '教授', '舍导', '精神', '培训', '党课', '研讨会', '报告会', '华工', '前沿', '片', '论坛', '骨干', '发展', '主', '十二月', '第二届', '仪式', '学院', '会', '建桥', '会计专业', '座谈会', '中国', '课程', '高端', '科', '贯彻', '政策', '开幕式', '学科建设', '教学', '廖', '与', '管理学', '国奖', '学生', '选调', '报告', '党', '备课', '揭牌', '结营', '杯', '集体', '教室', '系列', '活动', '乒乓球赛', '对象', '专访', '新进', '开班', '跟', '训练营', '组']\n"
     ]
    }
   ],
   "source": [
    "# 转化为 pd.DataFrame\n",
    "data_words = pd.DataFrame(dist)\n",
    "print(total_words_list)"
   ],
   "metadata": {
    "collapsed": false
   }
  },
  {
   "cell_type": "code",
   "execution_count": 12,
   "outputs": [],
   "source": [
    "# tag 矩阵构建\n",
    "# 定义 0 矩阵\n",
    "dist_matrix = np.zeros((len(title_with_tags), len(get_tag_times(title_with_tags)),))\n",
    "# 获取 tags 列表\n",
    "tags_list = list(get_tag_times(title_with_tags).keys())\n",
    "# 获取 title 的 list\n",
    "title_list = list(title_with_tags.keys())\n",
    "# 根据 tag 生成矩阵\n",
    "for mission_index in range(len(title_with_tags)):\n",
    "    for tag in title_with_tags[title_list[mission_index]]:\n",
    "        for tag_index in range(len(tags_list)):\n",
    "            if tag == tags_list[tag_index]:\n",
    "                dist_matrix[mission_index][tag_index] = 1\n",
    "\n",
    "data_label = pd.DataFrame(dist_matrix)"
   ],
   "metadata": {
    "collapsed": false
   }
  },
  {
   "cell_type": "code",
   "execution_count": 13,
   "outputs": [],
   "source": [
    "# 分割数据为训练集与测试集\n",
    "X_train, X_test, y_train, y_test = train_test_split(data_words, data_label, test_size=0.2, random_state=0)"
   ],
   "metadata": {
    "collapsed": false
   }
  },
  {
   "cell_type": "code",
   "execution_count": 14,
   "outputs": [],
   "source": [
    "# 模型定义\n",
    "def deep_model(feature_dim, label_dim):\n",
    "    model = Sequential()\n",
    "    print(\"create model. feature_dim ={}, label_dim ={}\".format(feature_dim, label_dim))\n",
    "    # model.add(Embedding(5, 32, input_length=79))\n",
    "    # model.add(Flatten())\n",
    "    model.add(Dense(512, activation='relu', input_dim=feature_dim))\n",
    "    model.add(Dense(label_dim, activation='sigmoid'))\n",
    "    model.compile(optimizer='adam', loss='binary_crossentropy', metrics=['accuracy'])\n",
    "    return model"
   ],
   "metadata": {
    "collapsed": false
   }
  },
  {
   "cell_type": "code",
   "execution_count": 15,
   "outputs": [],
   "source": [
    "# 模型训练函数\n",
    "def train_deep(X_train, y_train, X_test, y_test, epochs):\n",
    "    feature_dim = X_train.shape[1]\n",
    "    label_dim = y_train.shape[1]\n",
    "    model = deep_model(feature_dim, label_dim)\n",
    "    model.summary()\n",
    "    model.fit(X_train, y_train, batch_size=16, epochs=epochs, validation_data=(X_test, y_test))\n",
    "    return model"
   ],
   "metadata": {
    "collapsed": false
   }
  },
  {
   "cell_type": "code",
   "execution_count": 16,
   "outputs": [
    {
     "name": "stdout",
     "output_type": "stream",
     "text": [
      "create model. feature_dim =79, label_dim =16\n",
      "Model: \"sequential\"\n",
      "_________________________________________________________________\n",
      " Layer (type)                Output Shape              Param #   \n",
      "=================================================================\n",
      " dense (Dense)               (None, 512)               40960     \n",
      "                                                                 \n",
      " dense_1 (Dense)             (None, 16)                8208      \n",
      "                                                                 \n",
      "=================================================================\n",
      "Total params: 49,168\n",
      "Trainable params: 49,168\n",
      "Non-trainable params: 0\n",
      "_________________________________________________________________\n",
      "Epoch 1/10\n",
      "2/2 [==============================] - 1s 203ms/step - loss: 0.6979 - accuracy: 0.0526 - val_loss: 0.6687 - val_accuracy: 0.2000\n",
      "Epoch 2/10\n",
      "2/2 [==============================] - 0s 39ms/step - loss: 0.6707 - accuracy: 0.0526 - val_loss: 0.6532 - val_accuracy: 0.4000\n",
      "Epoch 3/10\n",
      "2/2 [==============================] - 0s 37ms/step - loss: 0.6469 - accuracy: 0.1579 - val_loss: 0.6383 - val_accuracy: 0.4000\n",
      "Epoch 4/10\n",
      "2/2 [==============================] - 0s 35ms/step - loss: 0.6244 - accuracy: 0.2105 - val_loss: 0.6238 - val_accuracy: 0.4000\n",
      "Epoch 5/10\n",
      "2/2 [==============================] - 0s 37ms/step - loss: 0.6034 - accuracy: 0.2632 - val_loss: 0.6093 - val_accuracy: 0.4000\n",
      "Epoch 6/10\n",
      "2/2 [==============================] - 0s 34ms/step - loss: 0.5827 - accuracy: 0.2632 - val_loss: 0.5952 - val_accuracy: 0.4000\n",
      "Epoch 7/10\n",
      "2/2 [==============================] - 0s 36ms/step - loss: 0.5628 - accuracy: 0.4211 - val_loss: 0.5816 - val_accuracy: 0.4000\n",
      "Epoch 8/10\n",
      "2/2 [==============================] - 0s 46ms/step - loss: 0.5426 - accuracy: 0.4211 - val_loss: 0.5682 - val_accuracy: 0.4000\n",
      "Epoch 9/10\n",
      "2/2 [==============================] - 0s 33ms/step - loss: 0.5229 - accuracy: 0.4737 - val_loss: 0.5550 - val_accuracy: 0.4000\n",
      "Epoch 10/10\n",
      "2/2 [==============================] - 0s 39ms/step - loss: 0.5044 - accuracy: 0.4737 - val_loss: 0.5420 - val_accuracy: 0.4000\n"
     ]
    }
   ],
   "source": [
    "# 开始训练\n",
    "my_model = train_deep(X_train, y_train, X_test, y_test, 10)"
   ],
   "metadata": {
    "collapsed": false
   }
  },
  {
   "cell_type": "code",
   "execution_count": null,
   "outputs": [],
   "source": [],
   "metadata": {
    "collapsed": false
   }
  }
 ],
 "metadata": {
  "kernelspec": {
   "display_name": "Python 3",
   "language": "python",
   "name": "python3"
  },
  "language_info": {
   "codemirror_mode": {
    "name": "ipython",
    "version": 2
   },
   "file_extension": ".py",
   "mimetype": "text/x-python",
   "name": "python",
   "nbconvert_exporter": "python",
   "pygments_lexer": "ipython2",
   "version": "2.7.6"
  }
 },
 "nbformat": 4,
 "nbformat_minor": 0
}
