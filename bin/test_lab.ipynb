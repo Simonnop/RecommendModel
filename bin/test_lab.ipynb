{
 "cells": [
  {
   "cell_type": "code",
   "execution_count": 20,
   "metadata": {
    "collapsed": true
   },
   "outputs": [],
   "source": [
    "import pymongo\n",
    "import pandas\n",
    "import numpy as np\n",
    "from sklearn.neighbors import NearestNeighbors\n",
    "# 设置精度\n",
    "np.set_printoptions(precision=3)"
   ]
  },
  {
   "cell_type": "code",
   "execution_count": null,
   "outputs": [],
   "source": [
    "# mongodb uri\n",
    "conn_str = \"mongodb://1.15.118.125:27017/\"\n",
    "# 客户端连接\n",
    "client = pymongo.MongoClient(conn_str, serverSelectionTimeoutMS=5000)\n",
    "collection_user = client.get_database(\"Lab\").get_collection(\"Mission\")"
   ],
   "metadata": {
    "collapsed": false
   }
  },
  {
   "cell_type": "code",
   "execution_count": 2,
   "outputs": [],
   "source": [
    "# 定义函数用"
   ],
   "metadata": {
    "collapsed": false
   }
  },
  {
   "cell_type": "code",
   "execution_count": 3,
   "outputs": [
    {
     "data": {
      "text/plain": "选调知多少政策宣讲活动                                                                                             [就业发展, 宣讲]\n会计专业课程组本科教学汇报                                                                                        [教学建设, 报告/汇报]\n喻园管理论坛: 重大工程中的使命导向型创新--以都江堰系统工程为例                                                                         [学术, 讲座]\n国奖专访                                                                                                    [采访, 校园生活]\nAOL第三轮工作会议                                                                                              [教学建设, 会议]\n校运会跟拍                                                                                                   [文体活动, 赛事]\n学习贯彻党的二十大精神宣讲报告会                                                                                 [党团活动, 宣讲, 报告/汇报]\n“廖建桥教室”揭牌仪式活动                                                                                           [教学建设, 仪式]\n喻园管理论坛: 数智时代数据应用与组织效能研究                                                                                   [学术, 讲座]\n领学团第一次集体备课会                                                                                             [教学建设, 会议]\n华工杯乒乓球赛半决赛                                                                                              [文体活动, 赛事]\n热缩片DIY活动                                                                                              [校园生活, 趣味活动]\n喻园管理论坛: Intelligent Simulation Optimization: An Example in Multi-fidelity Simulation Modeling             [学术, 讲座]\n喻园管理论坛: Auditor Industry Range and Professional Skepticism                                                [学术, 讲座]\n喻园管理论坛: How Banks Understand R&D Investments: The Case of Standards Setting Organizations                 [学术, 讲座]\n发展对象开班, 杨院长教授党课                                                                                         [党团活动, 讲座]\n十一月舍导交流                                                                                               [校园生活, 师生交流]\n管理学院第二届工商管理学科高端论坛系列活动: 学术报告会                                                                           [学术, 报告/汇报]\n管理学院第二届工商管理学科高端论坛系列活动: 学科建设座谈会                                                                          [教学建设, 会议]\n二十大宣讲                                                                                                   [党团活动, 宣讲]\n新进老师培训                                                                                                      [教学建设]\n学生骨干训练营的结营仪式                                                                                            [学生工作, 仪式]\n十二月舍导交流                                                                                               [校园生活, 师生交流]\n中国管理学前沿研究研讨会: 开幕式与主报告                                                                              [学术, 仪式, 报告/汇报]\ndtype: object"
     },
     "execution_count": 3,
     "metadata": {},
     "output_type": "execute_result"
    }
   ],
   "source": [
    "# 查询 title 与对应的 tags\n",
    "title_with_tags = {}\n",
    "for doc in collection_user.find():\n",
    "    mission_tags = doc.get(\"missionTags\")\n",
    "    mission_title = doc.get(\"title\")\n",
    "    title_with_tags[mission_title] = mission_tags\n",
    "\n",
    "# pands 格式化输出\n",
    "ser_tag_tags = pandas.Series(title_with_tags)\n",
    "ser_tag_tags.head(len(ser_tag_tags))"
   ],
   "metadata": {
    "collapsed": false
   }
  },
  {
   "cell_type": "code",
   "execution_count": 4,
   "outputs": [
    {
     "data": {
      "text/plain": "就业发展     1\n宣讲       3\n教学建设     6\n报告/汇报    4\n学术       7\n讲座       6\n采访       1\n校园生活     4\n会议       3\n文体活动     2\n赛事       2\n党团活动     3\n仪式       3\n趣味活动     1\n师生交流     2\n学生工作     1\ndtype: int64"
     },
     "execution_count": 4,
     "metadata": {},
     "output_type": "execute_result"
    }
   ],
   "source": [
    "# 查询 tag 的频次\n",
    "def get_tag_times(dict_value_tags):\n",
    "    tag_with_time = {}\n",
    "    for key in dict_value_tags:\n",
    "        for tag in dict_value_tags[key]:\n",
    "            if tag not in tag_with_time:\n",
    "                tag_with_time[tag] = 1\n",
    "            else:\n",
    "                tag_with_time[tag] += 1\n",
    "    return tag_with_time\n",
    "\n",
    "\n",
    "# pands 格式化输出\n",
    "ser_tag_with_time = pandas.Series(get_tag_times(title_with_tags))\n",
    "ser_tag_with_time.head(len(ser_tag_with_time))"
   ],
   "metadata": {
    "collapsed": false
   }
  },
  {
   "cell_type": "code",
   "execution_count": null,
   "outputs": [],
   "source": [
    "# 定义 0 矩阵\n",
    "dist = np.zeros((len(title_with_tags), len(get_tag_times(title_with_tags)),))\n",
    "# 获取 tags 列表\n",
    "tags_list = list(get_tag_times(title_with_tags).keys())\n",
    "print(tags_list)\n",
    "for mission_index in range(len(title_with_tags)):\n",
    "    for tag in title_with_tags[mission_index]:\n",
    "        for tag_index in range(len(tags_list)):\n",
    "            if tag == tags_list[tag_index]:\n",
    "                dist[mission_index][tag_index] = 1"
   ],
   "metadata": {
    "collapsed": false
   }
  },
  {
   "cell_type": "code",
   "execution_count": 37,
   "outputs": [
    {
     "name": "stdout",
     "output_type": "stream",
     "text": [
      "[[0.    1.414 1.732 1.732 2.    2.    2.    2.    2.    2.   ]\n",
      " [0.    1.    1.414 1.414 1.414 1.414 1.414 1.732 1.732 2.   ]\n",
      " [0.    0.    0.    0.    0.    1.414 1.414 1.732 1.732 2.   ]\n",
      " [0.    1.414 1.414 1.414 1.732 2.    2.    2.    2.    2.   ]\n",
      " [0.    0.    0.    1.    1.414 1.414 2.    2.    2.    2.   ]\n",
      " [0.    0.    1.732 2.    2.    2.    2.    2.    2.    2.   ]\n",
      " [0.    1.    1.732 1.732 1.732 1.732 2.    2.    2.236 2.236]\n",
      " [0.    1.    1.414 1.414 1.414 1.414 1.414 1.732 2.    2.   ]\n",
      " [0.    0.    0.    0.    0.    1.414 1.414 1.732 1.732 2.   ]\n",
      " [0.    0.    0.    1.    1.414 1.414 2.    2.    2.    2.   ]\n",
      " [0.    0.    1.732 2.    2.    2.    2.    2.    2.    2.   ]\n",
      " [0.    1.414 1.414 1.414 1.732 2.    2.    2.    2.    2.   ]\n",
      " [0.    0.    0.    0.    0.    1.414 1.414 1.732 1.732 2.   ]\n",
      " [0.    0.    0.    0.    0.    1.414 1.414 1.732 1.732 2.   ]\n",
      " [0.    0.    0.    0.    0.    1.414 1.414 1.732 1.732 2.   ]\n",
      " [0.    1.414 1.414 1.414 1.414 1.414 1.414 1.732 1.732 2.   ]\n",
      " [0.    0.    1.414 1.414 1.732 2.    2.    2.    2.    2.   ]\n",
      " [0.    1.    1.414 1.414 1.414 1.414 1.414 1.414 1.732 1.732]\n",
      " [0.    0.    0.    1.    1.414 1.414 2.    2.    2.    2.   ]\n",
      " [0.    1.    1.414 1.414 1.732 2.    2.    2.    2.    2.   ]\n",
      " [0.    1.    1.    1.    1.    1.    1.732 1.732 1.732 1.732]\n",
      " [0.    1.414 1.732 1.732 2.    2.    2.    2.    2.    2.   ]\n",
      " [0.    0.    1.414 1.414 1.732 2.    2.    2.    2.    2.   ]\n",
      " [0.    1.    1.732 1.732 1.732 1.732 1.732 1.732 1.732 1.732]]\n"
     ]
    }
   ],
   "source": [
    "# 使用 KNN 算法计算样本相互距离\n",
    "calcu_nbr = NearestNeighbors(n_neighbors=10, algorithm='ball_tree').fit(dist)\n",
    "distances,indices = calcu_nbr.kneighbors(dist)"
   ],
   "metadata": {
    "collapsed": false
   }
  },
  {
   "cell_type": "code",
   "execution_count": 39,
   "outputs": [
    {
     "name": "stdout",
     "output_type": "stream",
     "text": [
      "[[0.    1.414 1.732 1.732 2.    2.    2.    2.    2.    2.   ]\n",
      " [0.    1.    1.414 1.414 1.414 1.414 1.414 1.732 1.732 2.   ]\n",
      " [0.    0.    0.    0.    0.    1.414 1.414 1.732 1.732 2.   ]\n",
      " [0.    1.414 1.414 1.414 1.732 2.    2.    2.    2.    2.   ]\n",
      " [0.    0.    0.    1.    1.414 1.414 2.    2.    2.    2.   ]\n",
      " [0.    0.    1.732 2.    2.    2.    2.    2.    2.    2.   ]\n",
      " [0.    1.    1.732 1.732 1.732 1.732 2.    2.    2.236 2.236]\n",
      " [0.    1.    1.414 1.414 1.414 1.414 1.414 1.732 2.    2.   ]\n",
      " [0.    0.    0.    0.    0.    1.414 1.414 1.732 1.732 2.   ]\n",
      " [0.    0.    0.    1.    1.414 1.414 2.    2.    2.    2.   ]\n",
      " [0.    0.    1.732 2.    2.    2.    2.    2.    2.    2.   ]\n",
      " [0.    1.414 1.414 1.414 1.732 2.    2.    2.    2.    2.   ]\n",
      " [0.    0.    0.    0.    0.    1.414 1.414 1.732 1.732 2.   ]\n",
      " [0.    0.    0.    0.    0.    1.414 1.414 1.732 1.732 2.   ]\n",
      " [0.    0.    0.    0.    0.    1.414 1.414 1.732 1.732 2.   ]\n",
      " [0.    1.414 1.414 1.414 1.414 1.414 1.414 1.732 1.732 2.   ]\n",
      " [0.    0.    1.414 1.414 1.732 2.    2.    2.    2.    2.   ]\n",
      " [0.    1.    1.414 1.414 1.414 1.414 1.414 1.414 1.732 1.732]\n",
      " [0.    0.    0.    1.    1.414 1.414 2.    2.    2.    2.   ]\n",
      " [0.    1.    1.414 1.414 1.732 2.    2.    2.    2.    2.   ]\n",
      " [0.    1.    1.    1.    1.    1.    1.732 1.732 1.732 1.732]\n",
      " [0.    1.414 1.732 1.732 2.    2.    2.    2.    2.    2.   ]\n",
      " [0.    0.    1.414 1.414 1.732 2.    2.    2.    2.    2.   ]\n",
      " [0.    1.    1.732 1.732 1.732 1.732 1.732 1.732 1.732 1.732]]\n"
     ]
    }
   ],
   "source": [
    "# 输出距离\n",
    "print(distances)"
   ],
   "metadata": {
    "collapsed": false
   }
  },
  {
   "cell_type": "code",
   "execution_count": 40,
   "outputs": [
    {
     "name": "stdout",
     "output_type": "stream",
     "text": [
      "[[ 0 19  6 20  2  4  3  8  1  7]\n",
      " [ 1 20  4  9  7 17 18  6 23  8]\n",
      " [ 8 12 13  2 14 17 15 20 23  7]\n",
      " [ 3 16 22 11 20  1  8  4  9  7]\n",
      " [ 9  4 18 20  1  7  0  3  2  8]\n",
      " [ 5 10 20  3  0  4  8  1  9  7]\n",
      " [ 6 19  1 17  0 15 23 20  8  7]\n",
      " [ 7 20  9  4 18 21  1 23  8  3]\n",
      " [ 8 12 13  2 14 17 15 20 23  7]\n",
      " [ 9  4 18 20  1  7  0  3  2  8]\n",
      " [ 5 10 20  3  0  4  8  1  9  7]\n",
      " [11 16 22  3 20  1  8  4  9  7]\n",
      " [ 8 12 13  2 14 17 15 20 23  7]\n",
      " [ 8 12 13  2 14 17 15 20 23  7]\n",
      " [ 8 12 13  2 14 17 15 20 23  7]\n",
      " [15 12 19 13  8  2 14  6 20  7]\n",
      " [16 22 11  3 20  1  8  4  9  7]\n",
      " [17 23 13  8  2 12  1 14 20  6]\n",
      " [ 9  4 18 20  1  7  0  3  2  8]\n",
      " [19  6 15  0 20  3  1  8  4  7]\n",
      " [20  9  1 18  4  7  8  3  2  0]\n",
      " [21  7 23 20  3  4  8  9  0  1]\n",
      " [16 22 11  3 20  1  8  4  9  7]\n",
      " [23 17 13 21  1 14  8 12  2  7]]\n"
     ]
    }
   ],
   "source": [
    "# 输出邻近的 index 值\n",
    "print(indices)"
   ],
   "metadata": {
    "collapsed": false
   }
  },
  {
   "cell_type": "code",
   "execution_count": 56,
   "outputs": [
    {
     "name": "stdout",
     "output_type": "stream",
     "text": [
      "['选调知多少政策宣讲活动', '会计专业课程组本科教学汇报', '喻园管理论坛: 重大工程中的使命导向型创新--以都江堰系统工程为例', '国奖专访', 'AOL第三轮工作会议', '校运会跟拍', '学习贯彻党的二十大精神宣讲报告会', '“廖建桥教室”揭牌仪式活动', '喻园管理论坛: 数智时代数据应用与组织效能研究', '领学团第一次集体备课会', '华工杯乒乓球赛半决赛', '热缩片DIY活动', '喻园管理论坛: Intelligent Simulation Optimization: An Example in Multi-fidelity Simulation Modeling', '喻园管理论坛: Auditor Industry Range and Professional Skepticism', '喻园管理论坛: How Banks Understand R&D Investments: The Case of Standards Setting Organizations', '发展对象开班, 杨院长教授党课', '十一月舍导交流', '管理学院第二届工商管理学科高端论坛系列活动: 学术报告会', '管理学院第二届工商管理学科高端论坛系列活动: 学科建设座谈会', '二十大宣讲', '新进老师培训', '学生骨干训练营的结营仪式', '十二月舍导交流', '中国管理学前沿研究研讨会: 开幕式与主报告']\n"
     ]
    }
   ],
   "source": [
    "# 获取 title 的 list\n",
    "title_list = list(title_with_tags.keys())\n",
    "print(title_list)\n",
    "# 根据矩阵进行寻找\n",
    "def find_similar_mission(title_str,num):\n",
    "    similar_mission_list = []\n",
    "    my_index = title_list.index(title_str)\n",
    "    print(\"为 \" + title_str+\" 寻找相似任务\")\n",
    "    pointer = 0\n",
    "    count = 0\n",
    "    while count < num:\n",
    "        if indices[my_index][pointer] == my_index:\n",
    "            pointer += 1\n",
    "            continue\n",
    "        else:\n",
    "            similar_mission_list.append(title_list[indices[my_index][pointer]])\n",
    "            count += 1\n",
    "            pointer += 1\n",
    "    print(similar_mission_list)\n",
    "    return similar_mission_list"
   ],
   "metadata": {
    "collapsed": false
   }
  },
  {
   "cell_type": "code",
   "execution_count": 57,
   "outputs": [
    {
     "name": "stdout",
     "output_type": "stream",
     "text": [
      "为 喻园管理论坛: 重大工程中的使命导向型创新--以都江堰系统工程为例 寻找相似任务\n",
      "['喻园管理论坛: 数智时代数据应用与组织效能研究', '喻园管理论坛: Intelligent Simulation Optimization: An Example in Multi-fidelity Simulation Modeling', '喻园管理论坛: Auditor Industry Range and Professional Skepticism']\n",
      "为 二十大宣讲 寻找相似任务\n",
      "['学习贯彻党的二十大精神宣讲报告会', '发展对象开班, 杨院长教授党课', '选调知多少政策宣讲活动']\n"
     ]
    },
    {
     "data": {
      "text/plain": "['学习贯彻党的二十大精神宣讲报告会', '发展对象开班, 杨院长教授党课', '选调知多少政策宣讲活动']"
     },
     "execution_count": 57,
     "metadata": {},
     "output_type": "execute_result"
    }
   ],
   "source": [
    "find_similar_mission('喻园管理论坛: 重大工程中的使命导向型创新--以都江堰系统工程为例',3)\n",
    "find_similar_mission('二十大宣讲',3)"
   ],
   "metadata": {
    "collapsed": false
   }
  },
  {
   "cell_type": "code",
   "execution_count": null,
   "outputs": [],
   "source": [],
   "metadata": {
    "collapsed": false
   }
  }
 ],
 "metadata": {
  "kernelspec": {
   "display_name": "Python 3",
   "language": "python",
   "name": "python3"
  },
  "language_info": {
   "codemirror_mode": {
    "name": "ipython",
    "version": 2
   },
   "file_extension": ".py",
   "mimetype": "text/x-python",
   "name": "python",
   "nbconvert_exporter": "python",
   "pygments_lexer": "ipython2",
   "version": "2.7.6"
  }
 },
 "nbformat": 4,
 "nbformat_minor": 0
}
