{
 "cells": [
  {
   "cell_type": "code",
   "execution_count": 2,
   "metadata": {
    "collapsed": true
   },
   "outputs": [],
   "source": [
    "import pymongo\n",
    "import pandas\n",
    "import numpy as np\n",
    "from sklearn.neighbors import NearestNeighbors\n",
    "# 设置精度\n",
    "np.set_printoptions(precision=3)"
   ]
  },
  {
   "cell_type": "code",
   "execution_count": 3,
   "outputs": [],
   "source": [
    "# mongodb uri\n",
    "conn_str = \"mongodb://1.15.118.125:27017/\"\n",
    "# 客户端连接\n",
    "client = pymongo.MongoClient(conn_str, serverSelectionTimeoutMS=5000)\n",
    "collection_user = client.get_database(\"Lab\").get_collection(\"Mission\")"
   ],
   "metadata": {
    "collapsed": false
   }
  },
  {
   "cell_type": "code",
   "execution_count": 4,
   "outputs": [],
   "source": [
    "# 定义函数用"
   ],
   "metadata": {
    "collapsed": false
   }
  },
  {
   "cell_type": "code",
   "execution_count": 5,
   "outputs": [
    {
     "data": {
      "text/plain": "学生骨干成长训练营举办暑期专题培训                     [学生工作, 培训会]\n新生教师班主任工作研讨会召开                    [教学建设, 研讨会, 迎新]\n2022级本科生线上新生家长会                    [师生交流, 会议, 迎新]\n2022级研究生新生入学教育活动                       [迎新, 主题教育]\n研究生班级新生见面会顺利举行                         [迎新, 班级活动]\n                                       ...       \n管理学院第二届工商管理学科高端论坛系列活动: 学科建设座谈会        [教学建设, 交流会]\n新进老师培训                                [教学建设, 培训会]\n学生骨干训练营的结营仪式                           [学生工作, 仪式]\n十二月舍导交流                              [师生交流, 校园生活]\n中国管理学前沿研究研讨会: 开幕式与主报告             [学术, 仪式, 汇报/报告]\nLength: 101, dtype: object"
     },
     "execution_count": 5,
     "metadata": {},
     "output_type": "execute_result"
    }
   ],
   "source": [
    "# 查询 title 与对应的 tags\n",
    "title_with_tags = {}\n",
    "for doc in collection_user.find():\n",
    "    mission_tags = doc.get(\"missionTags\")\n",
    "    mission_title = doc.get(\"title\")\n",
    "    title_with_tags[mission_title] = mission_tags\n",
    "\n",
    "# pands 格式化输出\n",
    "ser_tag_tags = pandas.Series(title_with_tags)\n",
    "ser_tag_tags.head(len(ser_tag_tags))"
   ],
   "metadata": {
    "collapsed": false
   }
  },
  {
   "cell_type": "code",
   "execution_count": 6,
   "outputs": [
    {
     "data": {
      "text/plain": "学生工作      4\n培训会       6\n教学建设     21\n研讨会       2\n迎新        8\n师生交流     10\n会议       13\n主题教育      2\n班级活动      8\n就业发展      6\n校园生活      5\n党团活动     27\n社会实践      2\n调研活动      1\n交流会      11\n奖学金       4\n宣讲会       6\n其他活动      6\n文体活动     10\n赛事        9\n仪式        5\n学术       10\n讲座       10\n趣味活动      2\n答辩        1\n生活会       1\n采访        1\n课程学习      5\n汇报/报告     4\ndtype: int64"
     },
     "execution_count": 6,
     "metadata": {},
     "output_type": "execute_result"
    }
   ],
   "source": [
    "# 查询 tag 的频次\n",
    "def get_tag_times(dict_value_tags):\n",
    "    tag_with_time = {}\n",
    "    for key in dict_value_tags:\n",
    "        for tag in dict_value_tags[key]:\n",
    "            if tag not in tag_with_time:\n",
    "                tag_with_time[tag] = 1\n",
    "            else:\n",
    "                tag_with_time[tag] += 1\n",
    "    return tag_with_time\n",
    "\n",
    "\n",
    "# pands 格式化输出\n",
    "ser_tag_with_time = pandas.Series(get_tag_times(title_with_tags))\n",
    "ser_tag_with_time.head(len(ser_tag_with_time))"
   ],
   "metadata": {
    "collapsed": false
   }
  },
  {
   "cell_type": "code",
   "execution_count": 7,
   "outputs": [],
   "source": [
    "# 定义 0 矩阵\n",
    "dist = np.zeros((len(title_with_tags), len(get_tag_times(title_with_tags)),))\n",
    "# 获取 tags 列表\n",
    "tags_list = list(get_tag_times(title_with_tags).keys())\n",
    "# 获取 title 的 list\n",
    "title_list = list(title_with_tags.keys())\n",
    "\n",
    "for mission_index in range(len(title_with_tags)):\n",
    "    for tag in title_with_tags[title_list[mission_index]]:\n",
    "        for tag_index in range(len(tags_list)):\n",
    "            if tag == tags_list[tag_index]:\n",
    "                dist[mission_index][tag_index] = 1"
   ],
   "metadata": {
    "collapsed": false
   }
  },
  {
   "cell_type": "code",
   "execution_count": 8,
   "outputs": [],
   "source": [
    "# 使用 KNN 算法计算样本相互距离\n",
    "calcu_nbr = NearestNeighbors(n_neighbors=12, algorithm='ball_tree').fit(dist)\n",
    "distances,indices = calcu_nbr.kneighbors(dist)"
   ],
   "metadata": {
    "collapsed": false
   }
  },
  {
   "cell_type": "code",
   "execution_count": 9,
   "outputs": [
    {
     "data": {
      "text/plain": "      0         1         2         3         4         5         6   \\\n0    0.0  0.000000  1.414214  1.414214  1.414214  1.414214  1.414214   \n1    0.0  1.000000  1.414214  1.732051  1.732051  1.732051  1.732051   \n2    0.0  1.000000  1.732051  1.732051  1.732051  1.732051  1.732051   \n3    0.0  0.000000  1.414214  1.414214  1.414214  1.414214  1.732051   \n4    0.0  1.414214  1.414214  1.414214  1.414214  1.414214  1.414214   \n..   ...       ...       ...       ...       ...       ...       ...   \n96   0.0  1.000000  1.000000  1.000000  1.414214  1.414214  1.414214   \n97   0.0  0.000000  1.000000  1.414214  1.414214  1.414214  1.414214   \n98   0.0  1.000000  1.414214  1.414214  1.414214  1.414214  1.414214   \n99   0.0  0.000000  1.000000  1.000000  1.000000  1.414214  1.414214   \n100  0.0  1.000000  1.414214  1.732051  1.732051  1.732051  1.732051   \n\n           7         8         9         10        11  \n0    1.414214  1.732051  1.732051  1.732051  1.732051  \n1    1.732051  1.732051  1.732051  1.732051  1.732051  \n2    1.732051  1.732051  1.732051  1.732051  1.732051  \n3    1.732051  1.732051  1.732051  1.732051  1.732051  \n4    1.414214  1.414214  1.414214  1.414214  1.732051  \n..        ...       ...       ...       ...       ...  \n96   1.414214  1.414214  1.414214  1.414214  1.414214  \n97   1.414214  1.414214  1.414214  1.414214  1.414214  \n98   1.732051  1.732051  1.732051  1.732051  1.732051  \n99   1.732051  1.732051  1.732051  1.732051  1.732051  \n100  1.732051  1.732051  1.732051  1.732051  1.732051  \n\n[101 rows x 12 columns]",
      "text/html": "<div>\n<style scoped>\n    .dataframe tbody tr th:only-of-type {\n        vertical-align: middle;\n    }\n\n    .dataframe tbody tr th {\n        vertical-align: top;\n    }\n\n    .dataframe thead th {\n        text-align: right;\n    }\n</style>\n<table border=\"1\" class=\"dataframe\">\n  <thead>\n    <tr style=\"text-align: right;\">\n      <th></th>\n      <th>0</th>\n      <th>1</th>\n      <th>2</th>\n      <th>3</th>\n      <th>4</th>\n      <th>5</th>\n      <th>6</th>\n      <th>7</th>\n      <th>8</th>\n      <th>9</th>\n      <th>10</th>\n      <th>11</th>\n    </tr>\n  </thead>\n  <tbody>\n    <tr>\n      <th>0</th>\n      <td>0.0</td>\n      <td>0.000000</td>\n      <td>1.414214</td>\n      <td>1.414214</td>\n      <td>1.414214</td>\n      <td>1.414214</td>\n      <td>1.414214</td>\n      <td>1.414214</td>\n      <td>1.732051</td>\n      <td>1.732051</td>\n      <td>1.732051</td>\n      <td>1.732051</td>\n    </tr>\n    <tr>\n      <th>1</th>\n      <td>0.0</td>\n      <td>1.000000</td>\n      <td>1.414214</td>\n      <td>1.732051</td>\n      <td>1.732051</td>\n      <td>1.732051</td>\n      <td>1.732051</td>\n      <td>1.732051</td>\n      <td>1.732051</td>\n      <td>1.732051</td>\n      <td>1.732051</td>\n      <td>1.732051</td>\n    </tr>\n    <tr>\n      <th>2</th>\n      <td>0.0</td>\n      <td>1.000000</td>\n      <td>1.732051</td>\n      <td>1.732051</td>\n      <td>1.732051</td>\n      <td>1.732051</td>\n      <td>1.732051</td>\n      <td>1.732051</td>\n      <td>1.732051</td>\n      <td>1.732051</td>\n      <td>1.732051</td>\n      <td>1.732051</td>\n    </tr>\n    <tr>\n      <th>3</th>\n      <td>0.0</td>\n      <td>0.000000</td>\n      <td>1.414214</td>\n      <td>1.414214</td>\n      <td>1.414214</td>\n      <td>1.414214</td>\n      <td>1.732051</td>\n      <td>1.732051</td>\n      <td>1.732051</td>\n      <td>1.732051</td>\n      <td>1.732051</td>\n      <td>1.732051</td>\n    </tr>\n    <tr>\n      <th>4</th>\n      <td>0.0</td>\n      <td>1.414214</td>\n      <td>1.414214</td>\n      <td>1.414214</td>\n      <td>1.414214</td>\n      <td>1.414214</td>\n      <td>1.414214</td>\n      <td>1.414214</td>\n      <td>1.414214</td>\n      <td>1.414214</td>\n      <td>1.414214</td>\n      <td>1.732051</td>\n    </tr>\n    <tr>\n      <th>...</th>\n      <td>...</td>\n      <td>...</td>\n      <td>...</td>\n      <td>...</td>\n      <td>...</td>\n      <td>...</td>\n      <td>...</td>\n      <td>...</td>\n      <td>...</td>\n      <td>...</td>\n      <td>...</td>\n      <td>...</td>\n    </tr>\n    <tr>\n      <th>96</th>\n      <td>0.0</td>\n      <td>1.000000</td>\n      <td>1.000000</td>\n      <td>1.000000</td>\n      <td>1.414214</td>\n      <td>1.414214</td>\n      <td>1.414214</td>\n      <td>1.414214</td>\n      <td>1.414214</td>\n      <td>1.414214</td>\n      <td>1.414214</td>\n      <td>1.414214</td>\n    </tr>\n    <tr>\n      <th>97</th>\n      <td>0.0</td>\n      <td>0.000000</td>\n      <td>1.000000</td>\n      <td>1.414214</td>\n      <td>1.414214</td>\n      <td>1.414214</td>\n      <td>1.414214</td>\n      <td>1.414214</td>\n      <td>1.414214</td>\n      <td>1.414214</td>\n      <td>1.414214</td>\n      <td>1.414214</td>\n    </tr>\n    <tr>\n      <th>98</th>\n      <td>0.0</td>\n      <td>1.000000</td>\n      <td>1.414214</td>\n      <td>1.414214</td>\n      <td>1.414214</td>\n      <td>1.414214</td>\n      <td>1.414214</td>\n      <td>1.732051</td>\n      <td>1.732051</td>\n      <td>1.732051</td>\n      <td>1.732051</td>\n      <td>1.732051</td>\n    </tr>\n    <tr>\n      <th>99</th>\n      <td>0.0</td>\n      <td>0.000000</td>\n      <td>1.000000</td>\n      <td>1.000000</td>\n      <td>1.000000</td>\n      <td>1.414214</td>\n      <td>1.414214</td>\n      <td>1.732051</td>\n      <td>1.732051</td>\n      <td>1.732051</td>\n      <td>1.732051</td>\n      <td>1.732051</td>\n    </tr>\n    <tr>\n      <th>100</th>\n      <td>0.0</td>\n      <td>1.000000</td>\n      <td>1.414214</td>\n      <td>1.732051</td>\n      <td>1.732051</td>\n      <td>1.732051</td>\n      <td>1.732051</td>\n      <td>1.732051</td>\n      <td>1.732051</td>\n      <td>1.732051</td>\n      <td>1.732051</td>\n      <td>1.732051</td>\n    </tr>\n  </tbody>\n</table>\n<p>101 rows × 12 columns</p>\n</div>"
     },
     "execution_count": 9,
     "metadata": {},
     "output_type": "execute_result"
    }
   ],
   "source": [
    "# 输出距离\n",
    "pandas.DataFrame(distances)"
   ],
   "metadata": {
    "collapsed": false
   }
  },
  {
   "cell_type": "code",
   "execution_count": 10,
   "outputs": [
    {
     "name": "stdout",
     "output_type": "stream",
     "text": [
      "[[ 79   0  98 ...  45  50  44]\n",
      " [  1  17  45 ...   3   4  29]\n",
      " [  2  28  14 ...   3   4  29]\n",
      " ...\n",
      " [ 98  44  88 ...  50  61  75]\n",
      " [ 99  94  42 ...  38  37  44]\n",
      " [100  95  44 ...  84  87  19]]\n"
     ]
    }
   ],
   "source": [
    "# 输出邻近的 index 值\n",
    "print(indices)"
   ],
   "metadata": {
    "collapsed": false
   }
  },
  {
   "cell_type": "code",
   "execution_count": 11,
   "outputs": [],
   "source": [
    "# 根据矩阵进行寻找\n",
    "def find_similar_mission(title_str,num):\n",
    "    similar_mission_list = []\n",
    "    my_index = title_list.index(title_str)\n",
    "    print(\"为 \" + title_str+\" 寻找相似任务\")\n",
    "    pointer = 0\n",
    "    count = 0\n",
    "    while count < num:\n",
    "        if indices[my_index][pointer] == my_index:\n",
    "            pointer += 1\n",
    "            continue\n",
    "        else:\n",
    "            similar_mission_list.append(title_list[indices[my_index][pointer]])\n",
    "            count += 1\n",
    "            pointer += 1\n",
    "    for mis in similar_mission_list:\n",
    "        print(\" -> \"+mis)\n",
    "    return similar_mission_list"
   ],
   "metadata": {
    "collapsed": false
   }
  },
  {
   "cell_type": "code",
   "execution_count": 12,
   "outputs": [
    {
     "name": "stdout",
     "output_type": "stream",
     "text": [
      "为 我院召开国际认证工作会议 寻找相似任务\n",
      " -> 领学团第一次集体备课会\n",
      " -> AOL第三轮工作会议\n",
      " -> 2022年度秋季学期教职工大会举行\n",
      " -> 我院开展EQUIS认证资质预评估\n",
      " -> 2022级本科生入学教育大会暨年级大会顺利召开\n",
      "为 开展9月党员舍导进宿舍活动 寻找相似任务\n",
      " -> 开展10月党员舍导进宿舍活动\n",
      " -> 2022年“红色领航员”党员舍导进宿舍活动\n",
      " -> 十一月舍导交流\n",
      " -> 十二月舍导交流\n",
      " -> 本科第五党支部开展10月主题党日活动\n",
      "为 “廖建桥教室”揭牌仪式活动 寻找相似任务\n",
      " -> 我院开展EQUIS认证资质预评估\n",
      " -> 举行“喻见·爱”捐赠答谢仪式\n",
      " -> 课堂进企业 | 劲牌有限公司：探索数字化营销之路\n",
      " -> 华中科技大学2022级MBA开学典礼暨入学导航\n",
      " -> 我院召开国际认证工作会议\n",
      "done\n"
     ]
    }
   ],
   "source": [
    "get_num = 5\n",
    "find_similar_mission('我院召开国际认证工作会议',get_num)\n",
    "find_similar_mission('开展9月党员舍导进宿舍活动',get_num)\n",
    "find_similar_mission('“廖建桥教室”揭牌仪式活动',get_num)\n",
    "print(\"done\")"
   ],
   "metadata": {
    "collapsed": false
   }
  },
  {
   "cell_type": "code",
   "execution_count": null,
   "outputs": [],
   "source": [],
   "metadata": {
    "collapsed": false
   }
  }
 ],
 "metadata": {
  "kernelspec": {
   "display_name": "Python 3",
   "language": "python",
   "name": "python3"
  },
  "language_info": {
   "codemirror_mode": {
    "name": "ipython",
    "version": 2
   },
   "file_extension": ".py",
   "mimetype": "text/x-python",
   "name": "python",
   "nbconvert_exporter": "python",
   "pygments_lexer": "ipython2",
   "version": "2.7.6"
  }
 },
 "nbformat": 4,
 "nbformat_minor": 0
}
