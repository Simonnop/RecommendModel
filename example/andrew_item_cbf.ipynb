{
 "cells": [
  {
   "cell_type": "code",
   "execution_count": null,
   "outputs": [],
   "source": [
    "import csv\n",
    "from collections import defaultdict\n",
    "\n",
    "import numpy as np\n",
    "import numpy.ma as ma\n",
    "import pandas as pd\n",
    "import tabulate\n",
    "import tensorflow as tf\n",
    "from numpy import genfromtxt\n",
    "from sklearn.preprocessing import StandardScaler\n",
    "from tensorflow.python.keras import Model\n",
    "\n",
    "pd.set_option(\"display.precision\", 1)"
   ],
   "metadata": {
    "collapsed": false
   }
  },
  {
   "cell_type": "code",
   "execution_count": null,
   "outputs": [],
   "source": [
    "# 构建神经网络\n",
    "num_outputs = 32\n",
    "tf.random.set_seed(1)\n",
    "item_NN = tf.keras.models.Sequential([\n",
    "    tf.keras.layers.Dense(256, activation='relu'),\n",
    "    tf.keras.layers.Dense(128, activation='relu'),\n",
    "    tf.keras.layers.Dense(num_outputs),\n",
    "])"
   ],
   "metadata": {
    "collapsed": false
   }
  },
  {
   "cell_type": "code",
   "execution_count": null,
   "outputs": [],
   "source": [
    "# 导入数据\n",
    "with open('data/content_item_train_header.txt', newline='') as f:\n",
    "    item_features = list(csv.reader(f))[0]\n",
    "item_train = genfromtxt('data/content_item_train.csv', delimiter=',')\n",
    "item_vecs = genfromtxt('data/content_item_vecs.csv', delimiter=',')\n",
    "# 把csv读成dict\n",
    "movie_dict = defaultdict(dict)\n",
    "count = 0\n",
    "with open('data/content_movie_list.csv', newline='') as csvfile:\n",
    "    reader = csv.reader(csvfile, delimiter=',', quotechar='\"')\n",
    "    for line in reader:\n",
    "        if count == 0:\n",
    "            count += 1  # skip header\n",
    "        else:\n",
    "            count += 1\n",
    "            movie_id = int(line[0])\n",
    "            movie_dict[movie_id][\"title\"] = line[1]\n",
    "            movie_dict[movie_id][\"genres\"] = line[2]\n",
    "ivs = 3  # item genre vector start\n",
    "i_s = 1  # start of columns to use in training, items\n",
    "num_item_features = item_train.shape[1] - 1"
   ],
   "metadata": {
    "collapsed": false
   }
  },
  {
   "cell_type": "code",
   "execution_count": null,
   "outputs": [],
   "source": [
    "# 预处理\n",
    "scalerItem = StandardScaler()\n",
    "scalerItem.fit(item_train)\n",
    "item_train = scalerItem.transform(item_train)"
   ],
   "metadata": {
    "collapsed": false
   }
  },
  {
   "cell_type": "code",
   "execution_count": null,
   "outputs": [],
   "source": [
    "# 向神经网络放置数据\n",
    "input_item_m = tf.keras.layers.Input(shape=num_item_features)\n",
    "vm_m = item_NN(input_item_m)\n",
    "vm_m = tf.linalg.l2_normalize(vm_m, axis=1)\n",
    "model_m = Model(input_item_m, vm_m)\n",
    "model_m.summary()"
   ],
   "metadata": {
    "collapsed": false
   }
  },
  {
   "cell_type": "code",
   "execution_count": null,
   "outputs": [],
   "source": [
    "# 计算样本距离函数\n",
    "def sq_dist(a, b):\n",
    "    d = 0.0\n",
    "    for i in range(len(a)):\n",
    "        d = d + np.square(a[i] - b[i])\n",
    "    return d\n",
    "\n",
    "# 获得对应的item的属性(genre)\n",
    "def get_item_genre(item, ivs, item_features):\n",
    "    offset = np.where(item[ivs:] == 1)[0][0]\n",
    "    genre = item_features[ivs + offset]\n",
    "    return genre, offset"
   ],
   "metadata": {
    "collapsed": false
   }
  },
  {
   "cell_type": "code",
   "execution_count": null,
   "outputs": [],
   "source": [
    "scaled_item_vecs = scalerItem.transform(item_vecs)\n",
    "vms = model_m.predict(scaled_item_vecs[:, i_s:])\n",
    "print(f\"size of all predicted movie feature vectors: {vms.shape}\")"
   ],
   "metadata": {
    "collapsed": false
   }
  },
  {
   "cell_type": "code",
   "execution_count": null,
   "outputs": [],
   "source": [
    "count = 5\n",
    "dim = len(vms)\n",
    "dist = np.zeros((dim, dim))\n",
    "\n",
    "for i in range(dim):\n",
    "    for j in range(dim):\n",
    "        dist[i, j] = sq_dist(vms[i, :], vms[j, :])"
   ],
   "metadata": {
    "collapsed": false
   }
  },
  {
   "cell_type": "code",
   "execution_count": null,
   "outputs": [],
   "source": [
    "m_dist = ma.masked_array(dist, mask=np.identity(dist.shape[0]))  # mask the diagonal\n",
    "\n",
    "disp = [[\"movie1\", \"genres\", \"movie2\", \"genres\"]]\n",
    "for i in range(count):\n",
    "    min_idx = np.argmin(m_dist[i])\n",
    "    movie1_id = int(item_vecs[i, 0])\n",
    "    movie2_id = int(item_vecs[min_idx, 0])\n",
    "    genre1, _ = get_item_genre(item_vecs[i, :], ivs, item_features)\n",
    "    genre2, _ = get_item_genre(item_vecs[min_idx, :], ivs, item_features)\n",
    "\n",
    "    disp.append([movie_dict[movie1_id]['title'], genre1,\n",
    "                 movie_dict[movie2_id]['title'], genre2])\n",
    "\n",
    "table = tabulate.tabulate(disp, tablefmt='grid', headers=\"firstrow\", floatfmt=[\".1f\", \".1f\", \".0f\", \".2f\", \".2f\"])\n",
    "print(table)"
   ],
   "metadata": {
    "collapsed": false
   }
  }
 ],
 "metadata": {
  "kernelspec": {
   "display_name": "Python 3",
   "language": "python",
   "name": "python3"
  },
  "language_info": {
   "codemirror_mode": {
    "name": "ipython",
    "version": 2
   },
   "file_extension": ".py",
   "mimetype": "text/x-python",
   "name": "python",
   "nbconvert_exporter": "python",
   "pygments_lexer": "ipython2",
   "version": "2.7.6"
  }
 },
 "nbformat": 4,
 "nbformat_minor": 0
}
