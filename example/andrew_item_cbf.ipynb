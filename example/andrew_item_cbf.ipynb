{
 "cells": [
  {
   "cell_type": "code",
   "execution_count": 6,
   "outputs": [],
   "source": [
    "import csv\n",
    "from collections import defaultdict\n",
    "import numpy as np\n",
    "import numpy.ma as ma\n",
    "import pandas as pd\n",
    "import tabulate\n",
    "import tensorflow as tf\n",
    "from numpy import genfromtxt\n",
    "from sklearn.preprocessing import StandardScaler\n",
    "from tensorflow.python.keras import Model\n",
    "pd.set_option(\"display.precision\", 1)"
   ],
   "metadata": {
    "collapsed": false
   }
  },
  {
   "cell_type": "code",
   "execution_count": 7,
   "outputs": [],
   "source": [
    "# 构建神经网络\n",
    "num_outputs = 32\n",
    "tf.random.set_seed(1)\n",
    "item_NN = tf.keras.models.Sequential([\n",
    "    tf.keras.layers.Dense(256, activation='relu'),\n",
    "    tf.keras.layers.Dense(128, activation='relu'),\n",
    "    tf.keras.layers.Dense(num_outputs),\n",
    "])"
   ],
   "metadata": {
    "collapsed": false
   }
  },
  {
   "cell_type": "code",
   "execution_count": 8,
   "outputs": [],
   "source": [
    "# 导入数据\n",
    "with open('data/content_item_train_header.txt', newline='') as f:\n",
    "    item_features = list(csv.reader(f))[0]\n",
    "item_train = genfromtxt('data/content_item_train.csv', delimiter=',')\n",
    "item_vecs = genfromtxt('data/content_item_vecs.csv', delimiter=',')\n",
    "# 把csv读成dict\n",
    "movie_dict = defaultdict(dict)\n",
    "count = 0\n",
    "with open('data/content_movie_list.csv', newline='') as csvfile:\n",
    "    reader = csv.reader(csvfile, delimiter=',', quotechar='\"')\n",
    "    for line in reader:\n",
    "        if count == 0:\n",
    "            count += 1  # skip header\n",
    "        else:\n",
    "            count += 1\n",
    "            movie_id = int(line[0])\n",
    "            movie_dict[movie_id][\"title\"] = line[1]\n",
    "            movie_dict[movie_id][\"genres\"] = line[2]\n",
    "ivs = 3  # item genre vector start\n",
    "i_s = 1  # start of columns to use in training, items\n",
    "num_item_features = item_train.shape[1] - 1"
   ],
   "metadata": {
    "collapsed": false
   }
  },
  {
   "cell_type": "code",
   "execution_count": 9,
   "outputs": [],
   "source": [
    "# 预处理\n",
    "scalerItem = StandardScaler()\n",
    "scalerItem.fit(item_train)\n",
    "item_train = scalerItem.transform(item_train)"
   ],
   "metadata": {
    "collapsed": false
   }
  },
  {
   "cell_type": "code",
   "execution_count": 10,
   "outputs": [
    {
     "name": "stdout",
     "output_type": "stream",
     "text": [
      "Model: \"model\"\n",
      "_________________________________________________________________\n",
      "Layer (type)                 Output Shape              Param #   \n",
      "=================================================================\n",
      "Total params: 41,376\n",
      "Trainable params: 41,376\n",
      "Non-trainable params: 0\n",
      "_________________________________________________________________\n"
     ]
    }
   ],
   "source": [
    "# 向神经网络放置数据\n",
    "input_item_m = tf.keras.layers.Input(shape=num_item_features)\n",
    "vm_m = item_NN(input_item_m)\n",
    "vm_m = tf.linalg.l2_normalize(vm_m, axis=1)\n",
    "model_m = Model(input_item_m, vm_m)\n",
    "model_m.summary()"
   ],
   "metadata": {
    "collapsed": false
   }
  },
  {
   "cell_type": "code",
   "execution_count": 12,
   "outputs": [
    {
     "name": "stdout",
     "output_type": "stream",
     "text": [
      "16\n",
      "KerasTensor(type_spec=TensorSpec(shape=(None, 32), dtype=tf.float32, name=None), name='tf.math.l2_normalize/l2_normalize:0', description=\"created by layer 'tf.math.l2_normalize'\")\n"
     ]
    }
   ],
   "source": [
    "print(num_item_features)\n",
    "print(vm_m)"
   ],
   "metadata": {
    "collapsed": false
   }
  },
  {
   "cell_type": "code",
   "execution_count": 13,
   "outputs": [],
   "source": [
    "# 计算样本距离函数\n",
    "def sq_dist(a, b):\n",
    "    d = 0.0\n",
    "    for i in range(len(a)):\n",
    "        d = d + np.square(a[i] - b[i])\n",
    "    return d\n",
    "\n",
    "# 获得对应的item的属性(genre)\n",
    "def get_item_genre(item, ivs, item_features):\n",
    "    offset = np.where(item[ivs:] == 1)[0][0]\n",
    "    genre = item_features[ivs + offset]\n",
    "    return genre, offset"
   ],
   "metadata": {
    "collapsed": false
   }
  },
  {
   "cell_type": "code",
   "execution_count": 14,
   "outputs": [
    {
     "name": "stdout",
     "output_type": "stream",
     "text": [
      "size of all predicted movie feature vectors: (1883, 32)\n"
     ]
    }
   ],
   "source": [
    "scaled_item_vecs = scalerItem.transform(item_vecs)\n",
    "vms = model_m.predict(scaled_item_vecs[:, i_s:])\n",
    "print(f\"size of all predicted movie feature vectors: {vms.shape}\")"
   ],
   "metadata": {
    "collapsed": false
   }
  },
  {
   "cell_type": "code",
   "execution_count": 17,
   "outputs": [
    {
     "name": "stdout",
     "output_type": "stream",
     "text": [
      "[[-0.27082956 -0.08036376  0.00062436 ... -0.24820146  0.03875639\n",
      "   0.08023484]\n",
      " [-0.17197903  0.01741263 -0.30231732 ... -0.30880255  0.20028582\n",
      "   0.09363958]\n",
      " [-0.23659278  0.09339767  0.09067516 ... -0.22965577 -0.03743649\n",
      "   0.12535354]\n",
      " ...\n",
      " [-0.04982761  0.2480078  -0.12861396 ... -0.14392868  0.17976898\n",
      "   0.03090984]\n",
      " [ 0.04796767  0.28846937 -0.05266033 ... -0.09936561  0.00628154\n",
      "   0.17299837]\n",
      " [-0.04397301  0.25368923 -0.04348531 ... -0.02347828  0.08373854\n",
      "  -0.02823697]]\n"
     ]
    }
   ],
   "source": [
    "print(vms)"
   ],
   "metadata": {
    "collapsed": false
   }
  },
  {
   "cell_type": "code",
   "execution_count": 9,
   "outputs": [
    {
     "name": "stdout",
     "output_type": "stream",
     "text": [
      "[[0.         1.28204696 0.97717536 ... 1.26099219 1.30794076 0.84152463]\n",
      " [1.28204696 0.         1.16661835 ... 1.82232032 1.10724113 1.3384086 ]\n",
      " [0.97717536 1.16661835 0.         ... 1.28102649 0.83886599 1.48232408]\n",
      " ...\n",
      " [1.26099219 1.82232032 1.28102649 ... 0.         1.18314847 0.75234022]\n",
      " [1.30794076 1.10724113 0.83886599 ... 1.18314847 0.         1.3525712 ]\n",
      " [0.84152463 1.3384086  1.48232408 ... 0.75234022 1.3525712  0.        ]]\n"
     ]
    }
   ],
   "source": [
    "dim = len(vms)\n",
    "dist = np.zeros((dim, dim))\n",
    "# 计算全体的相似度\n",
    "# 计算时间长!!!\n",
    "for i in range(dim):\n",
    "    for j in range(dim):\n",
    "        dist[i, j] = sq_dist(vms[i, :], vms[j, :])"
   ],
   "metadata": {
    "collapsed": false
   }
  },
  {
   "cell_type": "code",
   "execution_count": 11,
   "outputs": [
    {
     "name": "stdout",
     "output_type": "stream",
     "text": [
      "+----------------------------------------+-----------+----------------------------------------+-----------+\n",
      "| movie1                                 | genres    | movie2                                 | genres    |\n",
      "+========================================+===========+========================================+===========+\n",
      "| Save the Last Dance (2001)             | Drama     | Planet of the Apes (2001)              | Drama     |\n",
      "+----------------------------------------+-----------+----------------------------------------+-----------+\n",
      "| Save the Last Dance (2001)             | Romance   | Wedding Planner, The (2001)            | Romance   |\n",
      "+----------------------------------------+-----------+----------------------------------------+-----------+\n",
      "| Wedding Planner, The (2001)            | Comedy    | Spy Kids (2001)                        | Comedy    |\n",
      "+----------------------------------------+-----------+----------------------------------------+-----------+\n",
      "| Wedding Planner, The (2001)            | Romance   | Save the Last Dance (2001)             | Romance   |\n",
      "+----------------------------------------+-----------+----------------------------------------+-----------+\n",
      "| Hannibal (2001)                        | Horror    | Mothman Prophecies, The (2002)         | Horror    |\n",
      "+----------------------------------------+-----------+----------------------------------------+-----------+\n",
      "| Hannibal (2001)                        | Thriller  | 15 Minutes (2001)                      | Thriller  |\n",
      "+----------------------------------------+-----------+----------------------------------------+-----------+\n",
      "| Saving Silverman (Evil Woman) (2001)   | Comedy    | Cats & Dogs (2001)                     | Comedy    |\n",
      "+----------------------------------------+-----------+----------------------------------------+-----------+\n",
      "| Saving Silverman (Evil Woman) (2001)   | Romance   | Save the Last Dance (2001)             | Romance   |\n",
      "+----------------------------------------+-----------+----------------------------------------+-----------+\n",
      "| Down to Earth (2001)                   | Comedy    | Joe Dirt (2001)                        | Comedy    |\n",
      "+----------------------------------------+-----------+----------------------------------------+-----------+\n",
      "| Down to Earth (2001)                   | Fantasy   | Queen of the Damned (2002)             | Fantasy   |\n",
      "+----------------------------------------+-----------+----------------------------------------+-----------+\n",
      "| Down to Earth (2001)                   | Romance   | Joe Dirt (2001)                        | Romance   |\n",
      "+----------------------------------------+-----------+----------------------------------------+-----------+\n",
      "| Mexican, The (2001)                    | Action    | Knight's Tale, A (2001)                | Action    |\n",
      "+----------------------------------------+-----------+----------------------------------------+-----------+\n",
      "| Mexican, The (2001)                    | Comedy    | Knight's Tale, A (2001)                | Comedy    |\n",
      "+----------------------------------------+-----------+----------------------------------------+-----------+\n",
      "| 15 Minutes (2001)                      | Thriller  | Hannibal (2001)                        | Thriller  |\n",
      "+----------------------------------------+-----------+----------------------------------------+-----------+\n",
      "| Heartbreakers (2001)                   | Comedy    | Animal, The (2001)                     | Comedy    |\n",
      "+----------------------------------------+-----------+----------------------------------------+-----------+\n",
      "| Heartbreakers (2001)                   | Crime     | Charlie's Angels: Full Throttle (2003) | Crime     |\n",
      "+----------------------------------------+-----------+----------------------------------------+-----------+\n",
      "| Heartbreakers (2001)                   | Romance   | Joe Dirt (2001)                        | Romance   |\n",
      "+----------------------------------------+-----------+----------------------------------------+-----------+\n",
      "| Spy Kids (2001)                        | Action    | Lara Croft: Tomb Raider (2001)         | Action    |\n",
      "+----------------------------------------+-----------+----------------------------------------+-----------+\n",
      "| Spy Kids (2001)                        | Adventure | Lara Croft: Tomb Raider (2001)         | Adventure |\n",
      "+----------------------------------------+-----------+----------------------------------------+-----------+\n",
      "| Spy Kids (2001)                        | Children  | Princess Diaries, The (2001)           | Children  |\n",
      "+----------------------------------------+-----------+----------------------------------------+-----------+\n",
      "| Spy Kids (2001)                        | Comedy    | Wedding Planner, The (2001)            | Comedy    |\n",
      "+----------------------------------------+-----------+----------------------------------------+-----------+\n",
      "| Along Came a Spider (2001)             | Action    | Swordfish (2001)                       | Action    |\n",
      "+----------------------------------------+-----------+----------------------------------------+-----------+\n",
      "| Along Came a Spider (2001)             | Crime     | Swordfish (2001)                       | Crime     |\n",
      "+----------------------------------------+-----------+----------------------------------------+-----------+\n",
      "| Along Came a Spider (2001)             | Mystery   | Ring, The (2002)                       | Mystery   |\n",
      "+----------------------------------------+-----------+----------------------------------------+-----------+\n",
      "| Along Came a Spider (2001)             | Thriller  | Mummy Returns, The (2001)              | Thriller  |\n",
      "+----------------------------------------+-----------+----------------------------------------+-----------+\n",
      "| Blow (2001)                            | Crime     | Training Day (2001)                    | Crime     |\n",
      "+----------------------------------------+-----------+----------------------------------------+-----------+\n",
      "| Blow (2001)                            | Drama     | Training Day (2001)                    | Drama     |\n",
      "+----------------------------------------+-----------+----------------------------------------+-----------+\n",
      "| Bridget Jones's Diary (2001)           | Comedy    | Super Troopers (2001)                  | Comedy    |\n",
      "+----------------------------------------+-----------+----------------------------------------+-----------+\n",
      "| Bridget Jones's Diary (2001)           | Drama     | Others, The (2001)                     | Drama     |\n",
      "+----------------------------------------+-----------+----------------------------------------+-----------+\n",
      "| Bridget Jones's Diary (2001)           | Romance   | Punch-Drunk Love (2002)                | Romance   |\n",
      "+----------------------------------------+-----------+----------------------------------------+-----------+\n",
      "| Joe Dirt (2001)                        | Adventure | The Scorpion King (2002)               | Adventure |\n",
      "+----------------------------------------+-----------+----------------------------------------+-----------+\n",
      "| Joe Dirt (2001)                        | Comedy    | Dr. Dolittle 2 (2001)                  | Comedy    |\n",
      "+----------------------------------------+-----------+----------------------------------------+-----------+\n",
      "| Joe Dirt (2001)                        | Mystery   | Grudge, The (2004)                     | Mystery   |\n",
      "+----------------------------------------+-----------+----------------------------------------+-----------+\n",
      "| Joe Dirt (2001)                        | Romance   | Down to Earth (2001)                   | Romance   |\n",
      "+----------------------------------------+-----------+----------------------------------------+-----------+\n",
      "| Crocodile Dundee in Los Angeles (2001) | Comedy    | Heartbreakers (2001)                   | Comedy    |\n",
      "+----------------------------------------+-----------+----------------------------------------+-----------+\n",
      "| Crocodile Dundee in Los Angeles (2001) | Drama     | Elektra (2005)                         | Drama     |\n",
      "+----------------------------------------+-----------+----------------------------------------+-----------+\n",
      "| Mummy Returns, The (2001)              | Action    | Swordfish (2001)                       | Action    |\n",
      "+----------------------------------------+-----------+----------------------------------------+-----------+\n",
      "| Mummy Returns, The (2001)              | Adventure | Jay and Silent Bob Strike Back (2001)  | Adventure |\n",
      "+----------------------------------------+-----------+----------------------------------------+-----------+\n",
      "| Mummy Returns, The (2001)              | Comedy    | American Pie 2 (2001)                  | Comedy    |\n",
      "+----------------------------------------+-----------+----------------------------------------+-----------+\n",
      "| Mummy Returns, The (2001)              | Thriller  | Fast and the Furious, The (2001)       | Thriller  |\n",
      "+----------------------------------------+-----------+----------------------------------------+-----------+\n",
      "| Knight's Tale, A (2001)                | Action    | Mexican, The (2001)                    | Action    |\n",
      "+----------------------------------------+-----------+----------------------------------------+-----------+\n",
      "| Knight's Tale, A (2001)                | Comedy    | Mexican, The (2001)                    | Comedy    |\n",
      "+----------------------------------------+-----------+----------------------------------------+-----------+\n",
      "| Knight's Tale, A (2001)                | Romance   | Monster's Ball (2001)                  | Romance   |\n",
      "+----------------------------------------+-----------+----------------------------------------+-----------+\n",
      "| Shrek (2001)                           | Adventure | Monsters, Inc. (2001)                  | Adventure |\n",
      "+----------------------------------------+-----------+----------------------------------------+-----------+\n",
      "| Shrek (2001)                           | Animation | Monsters, Inc. (2001)                  | Animation |\n",
      "+----------------------------------------+-----------+----------------------------------------+-----------+\n",
      "| Shrek (2001)                           | Children  | Monsters, Inc. (2001)                  | Children  |\n",
      "+----------------------------------------+-----------+----------------------------------------+-----------+\n",
      "| Shrek (2001)                           | Comedy    | Monsters, Inc. (2001)                  | Comedy    |\n",
      "+----------------------------------------+-----------+----------------------------------------+-----------+\n",
      "| Shrek (2001)                           | Fantasy   | Monsters, Inc. (2001)                  | Fantasy   |\n",
      "+----------------------------------------+-----------+----------------------------------------+-----------+\n",
      "| Shrek (2001)                           | Romance   | Monsoon Wedding (2001)                 | Romance   |\n",
      "+----------------------------------------+-----------+----------------------------------------+-----------+\n",
      "| Animal, The (2001)                     | Comedy    | Heartbreakers (2001)                   | Comedy    |\n",
      "+----------------------------------------+-----------+----------------------------------------+-----------+\n"
     ]
    }
   ],
   "source": [
    "m_dist = ma.masked_array(dist, mask=np.identity(dist.shape[0]))  # mask the diagonal\n",
    "\n",
    "count = 50\n",
    "disp = [[\"movie1\", \"genres\", \"movie2\", \"genres\"]]\n",
    "for i in range(count):\n",
    "    min_idx = np.argmin(m_dist[i])\n",
    "    movie1_id = int(item_vecs[i, 0])\n",
    "    movie2_id = int(item_vecs[min_idx, 0])\n",
    "    genre1, _ = get_item_genre(item_vecs[i, :], ivs, item_features)\n",
    "    genre2, _ = get_item_genre(item_vecs[min_idx, :], ivs, item_features)\n",
    "\n",
    "    disp.append([movie_dict[movie1_id]['title'], genre1,\n",
    "                 movie_dict[movie2_id]['title'], genre2])\n",
    "\n",
    "table = tabulate.tabulate(disp, tablefmt='grid', headers=\"firstrow\", floatfmt=[\".1f\", \".1f\", \".0f\", \".2f\", \".2f\"])\n",
    "print(table)"
   ],
   "metadata": {
    "collapsed": false
   }
  },
  {
   "cell_type": "code",
   "execution_count": null,
   "outputs": [],
   "source": [],
   "metadata": {
    "collapsed": false
   }
  }
 ],
 "metadata": {
  "kernelspec": {
   "display_name": "Python 3",
   "language": "python",
   "name": "python3"
  },
  "language_info": {
   "codemirror_mode": {
    "name": "ipython",
    "version": 2
   },
   "file_extension": ".py",
   "mimetype": "text/x-python",
   "name": "python",
   "nbconvert_exporter": "python",
   "pygments_lexer": "ipython2",
   "version": "2.7.6"
  }
 },
 "nbformat": 4,
 "nbformat_minor": 0
}
