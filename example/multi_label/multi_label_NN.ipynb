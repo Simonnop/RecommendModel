{
 "cells": [
  {
   "cell_type": "code",
   "execution_count": 12,
   "metadata": {
    "collapsed": true
   },
   "outputs": [],
   "source": [
    "# 导包\n",
    "import scipy\n",
    "import pandas as pd\n",
    "from sklearn.model_selection import train_test_split\n",
    "from keras.layers import Dense\n",
    "from keras.models import Sequential\n",
    "import numpy as np"
   ]
  },
  {
   "cell_type": "code",
   "execution_count": 13,
   "outputs": [
    {
     "data": {
      "text/plain": "          Att1      Att2      Att3      Att4      Att5      Att6      Att7  \\\n0     0.093700  0.139771  0.062774  0.007698  0.083873 -0.119156  0.073305   \n1    -0.022711 -0.050504 -0.035691 -0.065434 -0.084316 -0.378560  0.038212   \n2    -0.090407  0.021198  0.208712  0.102752  0.119315  0.041729 -0.021728   \n3    -0.085235  0.009540 -0.013228  0.094063 -0.013592 -0.030719 -0.116062   \n4    -0.088765 -0.026743  0.002075 -0.043819 -0.005465  0.004306 -0.055865   \n...        ...       ...       ...       ...       ...       ...       ...   \n1495 -0.119784  0.001259 -0.123645 -0.015513 -0.059683  0.091032 -0.043302   \n1496  0.085327  0.058590  0.085268 -0.020897  0.068972  0.030125  0.078056   \n1497  0.082526 -0.095571 -0.022019 -0.046793 -0.038360  0.041084  0.056509   \n1498 -0.130830  0.008868 -0.009457 -0.058930 -0.041224  0.042269  0.117717   \n1499 -0.171578 -0.066536  0.168206  0.246831  0.079555  0.016528 -0.088908   \n\n          Att8      Att9     Att10  ...  Class5  Class6  Class7  Class8  \\\n0     0.005510  0.027523  0.043477  ...    b'0'    b'0'    b'0'    b'0'   \n1     0.085770  0.182613 -0.055544  ...    b'0'    b'0'    b'1'    b'1'   \n2     0.019603 -0.063853 -0.053756  ...    b'0'    b'0'    b'0'    b'0'   \n3    -0.131674 -0.165448 -0.123053  ...    b'0'    b'0'    b'0'    b'0'   \n4    -0.071484 -0.159025 -0.111348  ...    b'0'    b'0'    b'0'    b'0'   \n...        ...       ...       ...  ...     ...     ...     ...     ...   \n1495  0.229219 -0.071498  0.182709  ...    b'0'    b'0'    b'0'    b'0'   \n1496  0.011346  0.052618  0.066093  ...    b'0'    b'0'    b'0'    b'0'   \n1497  0.011749 -0.029657 -0.012198  ...    b'0'    b'1'    b'1'    b'1'   \n1498  0.037388 -0.085563  0.136649  ...    b'0'    b'0'    b'0'    b'0'   \n1499 -0.212926 -0.280230 -0.187064  ...    b'0'    b'0'    b'0'    b'0'   \n\n      Class9  Class10  Class11  Class12  Class13  Class14  \n0       b'0'     b'0'     b'0'     b'0'     b'0'     b'0'  \n1       b'0'     b'0'     b'0'     b'1'     b'1'     b'0'  \n2       b'0'     b'0'     b'0'     b'1'     b'1'     b'0'  \n3       b'0'     b'0'     b'0'     b'1'     b'1'     b'1'  \n4       b'0'     b'0'     b'0'     b'0'     b'0'     b'0'  \n...      ...      ...      ...      ...      ...      ...  \n1495    b'0'     b'0'     b'0'     b'0'     b'0'     b'0'  \n1496    b'0'     b'0'     b'0'     b'1'     b'1'     b'0'  \n1497    b'0'     b'0'     b'0'     b'1'     b'1'     b'0'  \n1498    b'0'     b'0'     b'0'     b'1'     b'1'     b'0'  \n1499    b'0'     b'0'     b'0'     b'1'     b'1'     b'0'  \n\n[1500 rows x 117 columns]",
      "text/html": "<div>\n<style scoped>\n    .dataframe tbody tr th:only-of-type {\n        vertical-align: middle;\n    }\n\n    .dataframe tbody tr th {\n        vertical-align: top;\n    }\n\n    .dataframe thead th {\n        text-align: right;\n    }\n</style>\n<table border=\"1\" class=\"dataframe\">\n  <thead>\n    <tr style=\"text-align: right;\">\n      <th></th>\n      <th>Att1</th>\n      <th>Att2</th>\n      <th>Att3</th>\n      <th>Att4</th>\n      <th>Att5</th>\n      <th>Att6</th>\n      <th>Att7</th>\n      <th>Att8</th>\n      <th>Att9</th>\n      <th>Att10</th>\n      <th>...</th>\n      <th>Class5</th>\n      <th>Class6</th>\n      <th>Class7</th>\n      <th>Class8</th>\n      <th>Class9</th>\n      <th>Class10</th>\n      <th>Class11</th>\n      <th>Class12</th>\n      <th>Class13</th>\n      <th>Class14</th>\n    </tr>\n  </thead>\n  <tbody>\n    <tr>\n      <th>0</th>\n      <td>0.093700</td>\n      <td>0.139771</td>\n      <td>0.062774</td>\n      <td>0.007698</td>\n      <td>0.083873</td>\n      <td>-0.119156</td>\n      <td>0.073305</td>\n      <td>0.005510</td>\n      <td>0.027523</td>\n      <td>0.043477</td>\n      <td>...</td>\n      <td>b'0'</td>\n      <td>b'0'</td>\n      <td>b'0'</td>\n      <td>b'0'</td>\n      <td>b'0'</td>\n      <td>b'0'</td>\n      <td>b'0'</td>\n      <td>b'0'</td>\n      <td>b'0'</td>\n      <td>b'0'</td>\n    </tr>\n    <tr>\n      <th>1</th>\n      <td>-0.022711</td>\n      <td>-0.050504</td>\n      <td>-0.035691</td>\n      <td>-0.065434</td>\n      <td>-0.084316</td>\n      <td>-0.378560</td>\n      <td>0.038212</td>\n      <td>0.085770</td>\n      <td>0.182613</td>\n      <td>-0.055544</td>\n      <td>...</td>\n      <td>b'0'</td>\n      <td>b'0'</td>\n      <td>b'1'</td>\n      <td>b'1'</td>\n      <td>b'0'</td>\n      <td>b'0'</td>\n      <td>b'0'</td>\n      <td>b'1'</td>\n      <td>b'1'</td>\n      <td>b'0'</td>\n    </tr>\n    <tr>\n      <th>2</th>\n      <td>-0.090407</td>\n      <td>0.021198</td>\n      <td>0.208712</td>\n      <td>0.102752</td>\n      <td>0.119315</td>\n      <td>0.041729</td>\n      <td>-0.021728</td>\n      <td>0.019603</td>\n      <td>-0.063853</td>\n      <td>-0.053756</td>\n      <td>...</td>\n      <td>b'0'</td>\n      <td>b'0'</td>\n      <td>b'0'</td>\n      <td>b'0'</td>\n      <td>b'0'</td>\n      <td>b'0'</td>\n      <td>b'0'</td>\n      <td>b'1'</td>\n      <td>b'1'</td>\n      <td>b'0'</td>\n    </tr>\n    <tr>\n      <th>3</th>\n      <td>-0.085235</td>\n      <td>0.009540</td>\n      <td>-0.013228</td>\n      <td>0.094063</td>\n      <td>-0.013592</td>\n      <td>-0.030719</td>\n      <td>-0.116062</td>\n      <td>-0.131674</td>\n      <td>-0.165448</td>\n      <td>-0.123053</td>\n      <td>...</td>\n      <td>b'0'</td>\n      <td>b'0'</td>\n      <td>b'0'</td>\n      <td>b'0'</td>\n      <td>b'0'</td>\n      <td>b'0'</td>\n      <td>b'0'</td>\n      <td>b'1'</td>\n      <td>b'1'</td>\n      <td>b'1'</td>\n    </tr>\n    <tr>\n      <th>4</th>\n      <td>-0.088765</td>\n      <td>-0.026743</td>\n      <td>0.002075</td>\n      <td>-0.043819</td>\n      <td>-0.005465</td>\n      <td>0.004306</td>\n      <td>-0.055865</td>\n      <td>-0.071484</td>\n      <td>-0.159025</td>\n      <td>-0.111348</td>\n      <td>...</td>\n      <td>b'0'</td>\n      <td>b'0'</td>\n      <td>b'0'</td>\n      <td>b'0'</td>\n      <td>b'0'</td>\n      <td>b'0'</td>\n      <td>b'0'</td>\n      <td>b'0'</td>\n      <td>b'0'</td>\n      <td>b'0'</td>\n    </tr>\n    <tr>\n      <th>...</th>\n      <td>...</td>\n      <td>...</td>\n      <td>...</td>\n      <td>...</td>\n      <td>...</td>\n      <td>...</td>\n      <td>...</td>\n      <td>...</td>\n      <td>...</td>\n      <td>...</td>\n      <td>...</td>\n      <td>...</td>\n      <td>...</td>\n      <td>...</td>\n      <td>...</td>\n      <td>...</td>\n      <td>...</td>\n      <td>...</td>\n      <td>...</td>\n      <td>...</td>\n      <td>...</td>\n    </tr>\n    <tr>\n      <th>1495</th>\n      <td>-0.119784</td>\n      <td>0.001259</td>\n      <td>-0.123645</td>\n      <td>-0.015513</td>\n      <td>-0.059683</td>\n      <td>0.091032</td>\n      <td>-0.043302</td>\n      <td>0.229219</td>\n      <td>-0.071498</td>\n      <td>0.182709</td>\n      <td>...</td>\n      <td>b'0'</td>\n      <td>b'0'</td>\n      <td>b'0'</td>\n      <td>b'0'</td>\n      <td>b'0'</td>\n      <td>b'0'</td>\n      <td>b'0'</td>\n      <td>b'0'</td>\n      <td>b'0'</td>\n      <td>b'0'</td>\n    </tr>\n    <tr>\n      <th>1496</th>\n      <td>0.085327</td>\n      <td>0.058590</td>\n      <td>0.085268</td>\n      <td>-0.020897</td>\n      <td>0.068972</td>\n      <td>0.030125</td>\n      <td>0.078056</td>\n      <td>0.011346</td>\n      <td>0.052618</td>\n      <td>0.066093</td>\n      <td>...</td>\n      <td>b'0'</td>\n      <td>b'0'</td>\n      <td>b'0'</td>\n      <td>b'0'</td>\n      <td>b'0'</td>\n      <td>b'0'</td>\n      <td>b'0'</td>\n      <td>b'1'</td>\n      <td>b'1'</td>\n      <td>b'0'</td>\n    </tr>\n    <tr>\n      <th>1497</th>\n      <td>0.082526</td>\n      <td>-0.095571</td>\n      <td>-0.022019</td>\n      <td>-0.046793</td>\n      <td>-0.038360</td>\n      <td>0.041084</td>\n      <td>0.056509</td>\n      <td>0.011749</td>\n      <td>-0.029657</td>\n      <td>-0.012198</td>\n      <td>...</td>\n      <td>b'0'</td>\n      <td>b'1'</td>\n      <td>b'1'</td>\n      <td>b'1'</td>\n      <td>b'0'</td>\n      <td>b'0'</td>\n      <td>b'0'</td>\n      <td>b'1'</td>\n      <td>b'1'</td>\n      <td>b'0'</td>\n    </tr>\n    <tr>\n      <th>1498</th>\n      <td>-0.130830</td>\n      <td>0.008868</td>\n      <td>-0.009457</td>\n      <td>-0.058930</td>\n      <td>-0.041224</td>\n      <td>0.042269</td>\n      <td>0.117717</td>\n      <td>0.037388</td>\n      <td>-0.085563</td>\n      <td>0.136649</td>\n      <td>...</td>\n      <td>b'0'</td>\n      <td>b'0'</td>\n      <td>b'0'</td>\n      <td>b'0'</td>\n      <td>b'0'</td>\n      <td>b'0'</td>\n      <td>b'0'</td>\n      <td>b'1'</td>\n      <td>b'1'</td>\n      <td>b'0'</td>\n    </tr>\n    <tr>\n      <th>1499</th>\n      <td>-0.171578</td>\n      <td>-0.066536</td>\n      <td>0.168206</td>\n      <td>0.246831</td>\n      <td>0.079555</td>\n      <td>0.016528</td>\n      <td>-0.088908</td>\n      <td>-0.212926</td>\n      <td>-0.280230</td>\n      <td>-0.187064</td>\n      <td>...</td>\n      <td>b'0'</td>\n      <td>b'0'</td>\n      <td>b'0'</td>\n      <td>b'0'</td>\n      <td>b'0'</td>\n      <td>b'0'</td>\n      <td>b'0'</td>\n      <td>b'1'</td>\n      <td>b'1'</td>\n      <td>b'0'</td>\n    </tr>\n  </tbody>\n</table>\n<p>1500 rows × 117 columns</p>\n</div>"
     },
     "execution_count": 13,
     "metadata": {},
     "output_type": "execute_result"
    }
   ],
   "source": [
    "# 载入数据\n",
    "data, meta = scipy.io.arff.loadarff('./data/yeast-train.arff')\n",
    "df = pd.DataFrame(data)\n",
    "df"
   ],
   "metadata": {
    "collapsed": false
   }
  },
  {
   "cell_type": "code",
   "execution_count": 14,
   "outputs": [],
   "source": [
    "# 数据预处理\n",
    "X = df.iloc[:, 0:103].values\n",
    "y = df.iloc[:, 103:117].values\n",
    "X_train, X_test, y_train, y_test = train_test_split(X, y, test_size=0.2, random_state=0)\n",
    "y_train = y_train.astype(np.float64)\n",
    "y_test = y_test.astype(np.float64)"
   ],
   "metadata": {
    "collapsed": false
   }
  },
  {
   "cell_type": "code",
   "execution_count": 15,
   "outputs": [
    {
     "data": {
      "text/plain": "array([[ 0.0937  ,  0.139771,  0.062774, ..., -0.042402,  0.118473,\n         0.125632],\n       [-0.022711, -0.050504, -0.035691, ..., -0.014191,  0.022783,\n         0.123785],\n       [-0.090407,  0.021198,  0.208712, ..., -0.063378, -0.084181,\n        -0.034402],\n       ...,\n       [ 0.082526, -0.095571, -0.022019, ..., -0.066957,  0.260121,\n        -0.125303],\n       [-0.13083 ,  0.008868, -0.009457, ..., -0.122332, -0.022453,\n         0.001953],\n       [-0.171578, -0.066536,  0.168206, ..., -0.083342, -0.063135,\n         0.01881 ]])"
     },
     "execution_count": 15,
     "metadata": {},
     "output_type": "execute_result"
    }
   ],
   "source": [
    "# 观看数据结构\n",
    "X"
   ],
   "metadata": {
    "collapsed": false
   }
  },
  {
   "cell_type": "code",
   "execution_count": 16,
   "outputs": [
    {
     "data": {
      "text/plain": "array([[0., 0., 1., ..., 1., 1., 0.],\n       [0., 1., 1., ..., 1., 1., 0.],\n       [0., 1., 1., ..., 1., 1., 0.],\n       ...,\n       [0., 0., 0., ..., 1., 1., 0.],\n       [1., 1., 0., ..., 1., 1., 0.],\n       [0., 0., 0., ..., 1., 1., 0.]])"
     },
     "execution_count": 16,
     "metadata": {},
     "output_type": "execute_result"
    }
   ],
   "source": [
    "# 观看数据结构\n",
    "y_train"
   ],
   "metadata": {
    "collapsed": false
   }
  },
  {
   "cell_type": "code",
   "execution_count": 42,
   "outputs": [],
   "source": [
    "# 模型定义\n",
    "# feature_dim 输入层特征数量\n",
    "# label_dim 输出层标签数量\n",
    "def deep_model(feature_dim, label_dim):\n",
    "    model = Sequential()\n",
    "    print(\"create model. feature_dim ={}, label_dim ={}\".format(feature_dim, label_dim))\n",
    "    model.add(Dense(500, activation='relu', input_dim=feature_dim))\n",
    "    model.add(Dense(100, activation='relu'))\n",
    "    model.add(Dense(label_dim, activation='sigmoid'))\n",
    "    model.compile(optimizer='adam', loss='binary_crossentropy', metrics=['accuracy'])\n",
    "    return model"
   ],
   "metadata": {
    "collapsed": false
   }
  },
  {
   "cell_type": "code",
   "execution_count": 43,
   "outputs": [],
   "source": [
    "# 模型训练函数\n",
    "def train_deep(X_train, y_train, X_test, y_test, epochs):\n",
    "    feature_dim = X_train.shape[1]\n",
    "    label_dim = y_train.shape[1]\n",
    "    model = deep_model(feature_dim, label_dim)\n",
    "    model.summary()\n",
    "    model.fit(X_train, y_train, batch_size=16, epochs=epochs, validation_data=(X_test, y_test))"
   ],
   "metadata": {
    "collapsed": false
   }
  },
  {
   "cell_type": "code",
   "execution_count": 44,
   "outputs": [
    {
     "name": "stdout",
     "output_type": "stream",
     "text": [
      "create model. feature_dim =103, label_dim =14\n",
      "Model: \"sequential_11\"\n",
      "_________________________________________________________________\n",
      " Layer (type)                Output Shape              Param #   \n",
      "=================================================================\n",
      " dense_33 (Dense)            (None, 500)               52000     \n",
      "                                                                 \n",
      " dense_34 (Dense)            (None, 100)               50100     \n",
      "                                                                 \n",
      " dense_35 (Dense)            (None, 14)                1414      \n",
      "                                                                 \n",
      "=================================================================\n",
      "Total params: 103,514\n",
      "Trainable params: 103,514\n",
      "Non-trainable params: 0\n",
      "_________________________________________________________________\n",
      "Epoch 1/11\n",
      "75/75 [==============================] - 1s 4ms/step - loss: 0.5278 - accuracy: 0.0242 - val_loss: 0.4601 - val_accuracy: 0.0033\n",
      "Epoch 2/11\n",
      "75/75 [==============================] - 0s 2ms/step - loss: 0.4451 - accuracy: 0.0642 - val_loss: 0.4384 - val_accuracy: 0.1067\n",
      "Epoch 3/11\n",
      "75/75 [==============================] - 0s 2ms/step - loss: 0.4238 - accuracy: 0.1383 - val_loss: 0.4326 - val_accuracy: 0.1467\n",
      "Epoch 4/11\n",
      "75/75 [==============================] - 0s 2ms/step - loss: 0.4067 - accuracy: 0.1700 - val_loss: 0.4348 - val_accuracy: 0.2367\n",
      "Epoch 5/11\n",
      "75/75 [==============================] - 0s 2ms/step - loss: 0.3911 - accuracy: 0.1975 - val_loss: 0.4234 - val_accuracy: 0.1533\n",
      "Epoch 6/11\n",
      "75/75 [==============================] - 0s 2ms/step - loss: 0.3755 - accuracy: 0.2025 - val_loss: 0.4283 - val_accuracy: 0.1233\n",
      "Epoch 7/11\n",
      "75/75 [==============================] - 0s 2ms/step - loss: 0.3605 - accuracy: 0.2175 - val_loss: 0.4310 - val_accuracy: 0.2200\n",
      "Epoch 8/11\n",
      "75/75 [==============================] - 0s 2ms/step - loss: 0.3441 - accuracy: 0.2325 - val_loss: 0.4396 - val_accuracy: 0.1933\n",
      "Epoch 9/11\n",
      "75/75 [==============================] - 0s 2ms/step - loss: 0.3282 - accuracy: 0.2350 - val_loss: 0.4411 - val_accuracy: 0.1900\n",
      "Epoch 10/11\n",
      "75/75 [==============================] - 0s 2ms/step - loss: 0.3124 - accuracy: 0.2417 - val_loss: 0.4527 - val_accuracy: 0.1967\n",
      "Epoch 11/11\n",
      "75/75 [==============================] - 0s 2ms/step - loss: 0.2943 - accuracy: 0.2508 - val_loss: 0.4584 - val_accuracy: 0.2533\n"
     ]
    }
   ],
   "source": [
    "# 开始训练\n",
    "train_deep(X_train, y_train, X_test, y_test,11)"
   ],
   "metadata": {
    "collapsed": false
   }
  },
  {
   "cell_type": "code",
   "execution_count": null,
   "outputs": [],
   "source": [],
   "metadata": {
    "collapsed": false
   }
  }
 ],
 "metadata": {
  "kernelspec": {
   "display_name": "Python 3",
   "language": "python",
   "name": "python3"
  },
  "language_info": {
   "codemirror_mode": {
    "name": "ipython",
    "version": 2
   },
   "file_extension": ".py",
   "mimetype": "text/x-python",
   "name": "python",
   "nbconvert_exporter": "python",
   "pygments_lexer": "ipython2",
   "version": "2.7.6"
  }
 },
 "nbformat": 4,
 "nbformat_minor": 0
}
