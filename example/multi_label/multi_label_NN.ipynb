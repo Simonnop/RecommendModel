{
 "cells": [
  {
   "cell_type": "code",
   "execution_count": 1,
   "metadata": {
    "collapsed": true
   },
   "outputs": [],
   "source": [
    "# 导包\n",
    "import scipy\n",
    "import pandas as pd\n",
    "from sklearn.model_selection import train_test_split\n",
    "from keras.layers import Dense\n",
    "from keras.models import Sequential\n",
    "import numpy as np"
   ]
  },
  {
   "cell_type": "code",
   "execution_count": null,
   "outputs": [],
   "source": [
    "# 载入数据\n",
    "data, meta = scipy.io.arff.loadarff('./data/yeast-train.arff')\n",
    "df = pd.DataFrame(data)\n",
    "df"
   ],
   "metadata": {
    "collapsed": false,
    "pycharm": {
     "is_executing": true
    }
   }
  },
  {
   "cell_type": "code",
   "execution_count": 3,
   "outputs": [],
   "source": [
    "# 数据预处理\n",
    "X = df.iloc[:, 0:103].values\n",
    "y = df.iloc[:, 103:117].values\n",
    "X_train, X_test, y_train, y_test = train_test_split(X, y, test_size=0.2, random_state=0)\n",
    "y_train = y_train.astype(np.float64)\n",
    "y_test = y_test.astype(np.float64)"
   ],
   "metadata": {
    "collapsed": false
   }
  },
  {
   "cell_type": "code",
   "execution_count": null,
   "outputs": [],
   "source": [
    "# 观看数据结构\n",
    "X"
   ],
   "metadata": {
    "collapsed": false,
    "pycharm": {
     "is_executing": true
    }
   }
  },
  {
   "cell_type": "code",
   "execution_count": null,
   "outputs": [],
   "source": [
    "# 观看数据结构\n",
    "y_train"
   ],
   "metadata": {
    "collapsed": false,
    "pycharm": {
     "is_executing": true
    }
   }
  },
  {
   "cell_type": "code",
   "execution_count": 41,
   "outputs": [],
   "source": [
    "# 模型定义\n",
    "# feature_dim 输入层特征数量\n",
    "# label_dim 输出层标签数量\n",
    "def deep_model(feature_dim, label_dim):\n",
    "    model = Sequential()\n",
    "    print(\"create model. feature_dim ={}, label_dim ={}\".format(feature_dim, label_dim))\n",
    "    model.add(Dense(512, activation='relu', input_dim=feature_dim))\n",
    "    model.add(Dense(256, activation='relu'))\n",
    "    model.add(Dense(label_dim, activation='sigmoid'))\n",
    "    model.compile(optimizer='adam', loss='binary_crossentropy', metrics=['accuracy'])\n",
    "    return model"
   ],
   "metadata": {
    "collapsed": false
   }
  },
  {
   "cell_type": "code",
   "execution_count": 42,
   "outputs": [],
   "source": [
    "# 模型训练函数\n",
    "def train_deep(X_train, y_train, X_test, y_test, epochs):\n",
    "    feature_dim = X_train.shape[1]\n",
    "    label_dim = y_train.shape[1]\n",
    "    model = deep_model(feature_dim, label_dim)\n",
    "    model.summary()\n",
    "    model.fit(X_train, y_train, batch_size=16, epochs=epochs, validation_data=(X_test, y_test))"
   ],
   "metadata": {
    "collapsed": false
   }
  },
  {
   "cell_type": "code",
   "execution_count": 43,
   "outputs": [
    {
     "name": "stdout",
     "output_type": "stream",
     "text": [
      "create model. feature_dim =103, label_dim =14\n",
      "Model: \"sequential_14\"\n",
      "_________________________________________________________________\n",
      " Layer (type)                Output Shape              Param #   \n",
      "=================================================================\n",
      " dense_42 (Dense)            (None, 512)               53248     \n",
      "                                                                 \n",
      " dense_43 (Dense)            (None, 128)               65664     \n",
      "                                                                 \n",
      " dense_44 (Dense)            (None, 14)                1806      \n",
      "                                                                 \n",
      "=================================================================\n",
      "Total params: 120,718\n",
      "Trainable params: 120,718\n",
      "Non-trainable params: 0\n",
      "_________________________________________________________________\n",
      "Epoch 1/20\n",
      "75/75 [==============================] - 1s 5ms/step - loss: 0.5276 - accuracy: 0.0100 - val_loss: 0.4518 - val_accuracy: 0.0033\n",
      "Epoch 2/20\n",
      "75/75 [==============================] - 0s 4ms/step - loss: 0.4440 - accuracy: 0.0733 - val_loss: 0.4391 - val_accuracy: 0.0900\n",
      "Epoch 3/20\n",
      "75/75 [==============================] - 0s 4ms/step - loss: 0.4220 - accuracy: 0.1442 - val_loss: 0.4338 - val_accuracy: 0.1867\n",
      "Epoch 4/20\n",
      "75/75 [==============================] - 0s 3ms/step - loss: 0.4027 - accuracy: 0.1800 - val_loss: 0.4272 - val_accuracy: 0.1333\n",
      "Epoch 5/20\n",
      "75/75 [==============================] - 0s 3ms/step - loss: 0.3864 - accuracy: 0.1950 - val_loss: 0.4281 - val_accuracy: 0.1800\n",
      "Epoch 6/20\n",
      "75/75 [==============================] - 0s 3ms/step - loss: 0.3706 - accuracy: 0.1950 - val_loss: 0.4313 - val_accuracy: 0.1767\n",
      "Epoch 7/20\n",
      "75/75 [==============================] - 0s 3ms/step - loss: 0.3527 - accuracy: 0.2083 - val_loss: 0.4343 - val_accuracy: 0.1500\n",
      "Epoch 8/20\n",
      "75/75 [==============================] - 0s 3ms/step - loss: 0.3376 - accuracy: 0.2233 - val_loss: 0.4434 - val_accuracy: 0.1400\n",
      "Epoch 9/20\n",
      "75/75 [==============================] - 0s 3ms/step - loss: 0.3184 - accuracy: 0.2525 - val_loss: 0.4465 - val_accuracy: 0.1633\n",
      "Epoch 10/20\n",
      "75/75 [==============================] - 0s 3ms/step - loss: 0.2996 - accuracy: 0.2400 - val_loss: 0.4705 - val_accuracy: 0.1833\n",
      "Epoch 11/20\n",
      "75/75 [==============================] - 0s 3ms/step - loss: 0.2820 - accuracy: 0.2592 - val_loss: 0.4722 - val_accuracy: 0.1633\n",
      "Epoch 12/20\n",
      "75/75 [==============================] - 0s 3ms/step - loss: 0.2622 - accuracy: 0.2633 - val_loss: 0.4785 - val_accuracy: 0.1933\n",
      "Epoch 13/20\n",
      "75/75 [==============================] - 0s 3ms/step - loss: 0.2394 - accuracy: 0.2692 - val_loss: 0.4982 - val_accuracy: 0.2000\n",
      "Epoch 14/20\n",
      "75/75 [==============================] - 0s 3ms/step - loss: 0.2208 - accuracy: 0.2808 - val_loss: 0.5167 - val_accuracy: 0.2133\n",
      "Epoch 15/20\n",
      "75/75 [==============================] - 0s 3ms/step - loss: 0.2003 - accuracy: 0.2842 - val_loss: 0.5282 - val_accuracy: 0.1933\n",
      "Epoch 16/20\n",
      "75/75 [==============================] - 0s 3ms/step - loss: 0.1803 - accuracy: 0.2925 - val_loss: 0.5464 - val_accuracy: 0.1900\n",
      "Epoch 17/20\n",
      "75/75 [==============================] - 0s 3ms/step - loss: 0.1659 - accuracy: 0.2858 - val_loss: 0.5677 - val_accuracy: 0.1933\n",
      "Epoch 18/20\n",
      "75/75 [==============================] - 0s 3ms/step - loss: 0.1460 - accuracy: 0.2892 - val_loss: 0.5893 - val_accuracy: 0.1700\n",
      "Epoch 19/20\n",
      "75/75 [==============================] - 0s 3ms/step - loss: 0.1312 - accuracy: 0.3108 - val_loss: 0.6135 - val_accuracy: 0.2000\n",
      "Epoch 20/20\n",
      "75/75 [==============================] - 0s 3ms/step - loss: 0.1164 - accuracy: 0.2742 - val_loss: 0.6364 - val_accuracy: 0.1933\n"
     ]
    }
   ],
   "source": [
    "# 开始训练\n",
    "train_deep(X_train, y_train, X_test, y_test,20)"
   ],
   "metadata": {
    "collapsed": false
   }
  },
  {
   "cell_type": "code",
   "execution_count": null,
   "outputs": [],
   "source": [],
   "metadata": {
    "collapsed": false
   }
  }
 ],
 "metadata": {
  "kernelspec": {
   "display_name": "Python 3",
   "language": "python",
   "name": "python3"
  },
  "language_info": {
   "codemirror_mode": {
    "name": "ipython",
    "version": 2
   },
   "file_extension": ".py",
   "mimetype": "text/x-python",
   "name": "python",
   "nbconvert_exporter": "python",
   "pygments_lexer": "ipython2",
   "version": "2.7.6"
  }
 },
 "nbformat": 4,
 "nbformat_minor": 0
}
